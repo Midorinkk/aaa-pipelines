{
 "cells": [
  {
   "cell_type": "markdown",
   "id": "97067b1b-b81f-4a8d-930e-f98923ed2c98",
   "metadata": {},
   "source": [
    "# Home Work"
   ]
  },
  {
   "cell_type": "markdown",
   "id": "960c54bc-6d4d-4ab5-afa7-8b4b427f2830",
   "metadata": {},
   "source": [
    "В этой работе будем иследовать одну из популярнейших рекомендательных моделей - **Latent Factor Model** - https://arxiv.org/pdf/1912.04754. \n",
    "\n",
    "Перед выполнением задания нужно убедиться, что прогоняется бейзлайн. Для этого:\n",
    "1) Скачайте  файлы - **node2name.json** и **clickstream.parque** с необходимыми данными\n",
    "2) Положите в репозиторий ноутбука и запустите код\n",
    "\n",
    "В этой работе вам нужно:\n",
    "1) перебрать параметры модели - edim,batch_size, lr, epoch , num_negatives -   (по **1 балу - 5 балов**) \n",
    "2) Тип OPTIMIZER_NAME - (**4 бала за 5 оптимизаторов**)\n",
    "3) На основе имеющихся данных собрать лучшую модель (по **precision@30**) и рассчитать ее метрики (**4 бала**)\n",
    "4) Попробовать другие модели (например  als - https://benfred.github.io/implicit/ , gru4rec, sasrec  ) - за sasrec на хорошем уровне сразу **10 балов**. За другие модели по **3 бала**\n",
    "5) По окончанию работы в mlflow настроить графики для сравнения моделей. Можно проявить фантазию, но обязательно должно быть сравнение с бейзлайном (данный ноутбук) против других моделей\n",
    "6) В mlflow залогировать последнюю версию ноутбука - необходимое условия. Либо в github, но тогда прикрепить ссылку в [mlflow](http://84.201.128.89:90/) . Эксперимент в формате - **homework-\\<name\\>**\n",
    "7) Доп балы (**20 баллов**) тому у кого будет наибольший скор на тесте. Но ваш ноутбук должен прогонятся и быть вопроизводимым.\n",
    "\n",
    "Суммарно за работу **20 балов**"
   ]
  },
  {
   "cell_type": "code",
   "execution_count": 3,
   "id": "2a441339-9098-437b-85ed-51866e797e45",
   "metadata": {
    "tags": []
   },
   "outputs": [
    {
     "name": "stdout",
     "output_type": "stream",
     "text": [
      "Package                           Version\n",
      "--------------------------------- ------------\n",
      "aext_assistant                    0.4.0\n",
      "aext_assistant_server             0.4.0\n",
      "aext_core                         0.4.0\n",
      "aext_core_server                  0.4.0\n",
      "aext_shared                       0.4.0\n",
      "aiobotocore                       2.7.0\n",
      "aiofiles                          22.1.0\n",
      "aiohttp                           3.9.3\n",
      "aioitertools                      0.7.1\n",
      "aiosignal                         1.2.0\n",
      "aiosqlite                         0.18.0\n",
      "alabaster                         0.7.12\n",
      "alembic                           1.13.1\n",
      "altair                            5.0.1\n",
      "anaconda-anon-usage               0.4.3\n",
      "anaconda-catalogs                 0.2.0\n",
      "anaconda-client                   1.12.3\n",
      "anaconda-cloud-auth               0.5.1\n",
      "anaconda-navigator                2.6.0\n",
      "anaconda-project                  0.11.1\n",
      "aniso8601                         9.0.1\n",
      "anyio                             4.2.0\n",
      "appdirs                           1.4.4\n",
      "applaunchservices                 0.3.0\n",
      "appnope                           0.1.2\n",
      "appscript                         1.1.2\n",
      "archspec                          0.2.3\n",
      "argon2-cffi                       21.3.0\n",
      "argon2-cffi-bindings              21.2.0\n",
      "arrow                             1.2.3\n",
      "astroid                           2.14.2\n",
      "astropy                           5.3.4\n",
      "asttokens                         2.0.5\n",
      "async-lru                         2.0.4\n",
      "atomicwrites                      1.4.0\n",
      "attrs                             23.1.0\n",
      "Automat                           20.2.0\n",
      "autopep8                          2.0.4\n",
      "Babel                             2.11.0\n",
      "backports.functools-lru-cache     1.6.4\n",
      "backports.tempfile                1.0\n",
      "backports.weakref                 1.0.post1\n",
      "bcrypt                            3.2.0\n",
      "beautifulsoup4                    4.12.2\n",
      "binaryornot                       0.4.4\n",
      "black                             23.11.0\n",
      "bleach                            4.1.0\n",
      "blinker                           1.6.2\n",
      "bokeh                             3.3.4\n",
      "boltons                           23.0.0\n",
      "botocore                          1.31.64\n",
      "Bottleneck                        1.3.7\n",
      "Brotli                            1.0.9\n",
      "cachetools                        4.2.2\n",
      "certifi                           2024.2.2\n",
      "cffi                              1.16.0\n",
      "chardet                           4.0.0\n",
      "charset-normalizer                2.0.4\n",
      "click                             8.1.7\n",
      "cloudpickle                       2.2.1\n",
      "clyent                            1.2.2\n",
      "colorama                          0.4.6\n",
      "colorcet                          3.0.1\n",
      "colorlog                          6.8.2\n",
      "comm                              0.2.1\n",
      "conda                             24.5.0\n",
      "conda-build                       24.1.2\n",
      "conda-content-trust               0.2.0\n",
      "conda_index                       0.4.0\n",
      "conda-libmamba-solver             24.1.0\n",
      "conda-pack                        0.6.0\n",
      "conda-package-handling            2.2.0\n",
      "conda_package_streaming           0.9.0\n",
      "conda-repo-cli                    1.0.75\n",
      "conda-token                       0.4.0\n",
      "conda-verify                      3.4.2\n",
      "constantly                        23.10.4\n",
      "contourpy                         1.2.0\n",
      "cookiecutter                      2.5.0\n",
      "cryptography                      42.0.2\n",
      "cssselect                         1.2.0\n",
      "cycler                            0.11.0\n",
      "cytoolz                           0.12.2\n",
      "dask                              2023.11.0\n",
      "datashader                        0.16.0\n",
      "debugpy                           1.6.7\n",
      "decorator                         5.1.1\n",
      "defusedxml                        0.7.1\n",
      "diff-match-patch                  20200713\n",
      "dill                              0.3.7\n",
      "distributed                       2023.11.0\n",
      "distro                            1.8.0\n",
      "dnspython                         2.6.1\n",
      "docker                            7.0.0\n",
      "docstring-to-markdown             0.11\n",
      "docutils                          0.18.1\n",
      "email_validator                   2.1.1\n",
      "entrypoints                       0.4\n",
      "et-xmlfile                        1.1.0\n",
      "executing                         0.8.3\n",
      "faiss-cpu                         1.8.0\n",
      "fastapi                           0.111.0\n",
      "fastapi-cli                       0.0.4\n",
      "fastjsonschema                    2.16.2\n",
      "filelock                          3.13.1\n",
      "flake8                            7.0.0\n",
      "Flask                             2.2.5\n",
      "fonttools                         4.25.0\n",
      "frozendict                        2.4.2\n",
      "frozenlist                        1.4.0\n",
      "fsspec                            2023.10.0\n",
      "future                            0.18.3\n",
      "gensim                            4.3.0\n",
      "gitdb                             4.0.7\n",
      "GitPython                         3.1.37\n",
      "gmpy2                             2.1.2\n",
      "graphene                          3.3\n",
      "graphql-core                      3.2.3\n",
      "graphql-relay                     3.2.0\n",
      "greenlet                          3.0.1\n",
      "gunicorn                          22.0.0\n",
      "h11                               0.14.0\n",
      "h5py                              3.9.0\n",
      "HeapDict                          1.0.1\n",
      "holoviews                         1.18.3\n",
      "httpcore                          1.0.2\n",
      "httptools                         0.6.1\n",
      "httpx                             0.26.0\n",
      "huggingface-hub                   0.23.2\n",
      "hvplot                            0.9.2\n",
      "hyperlink                         21.0.0\n",
      "idna                              3.4\n",
      "imagecodecs                       2023.1.23\n",
      "imageio                           2.33.1\n",
      "imagesize                         1.4.1\n",
      "imbalanced-learn                  0.11.0\n",
      "implicit                          0.7.2\n",
      "importlib-metadata                7.0.1\n",
      "incremental                       22.10.0\n",
      "inflection                        0.5.1\n",
      "iniconfig                         1.1.1\n",
      "intake                            0.6.8\n",
      "intervaltree                      3.1.0\n",
      "ipykernel                         6.28.0\n",
      "ipython                           8.20.0\n",
      "ipython-genutils                  0.2.0\n",
      "ipywidgets                        8.1.2\n",
      "isort                             5.9.3\n",
      "itemadapter                       0.3.0\n",
      "itemloaders                       1.1.0\n",
      "itsdangerous                      2.0.1\n",
      "jaraco.classes                    3.2.1\n",
      "jedi                              0.18.1\n",
      "jellyfish                         1.0.1\n",
      "Jinja2                            3.1.3\n",
      "jmespath                          1.0.1\n",
      "joblib                            1.2.0\n",
      "json5                             0.9.6\n",
      "jsonpatch                         1.32\n",
      "jsonpointer                       2.1\n",
      "jsonschema                        4.19.2\n",
      "jsonschema-specifications         2023.7.1\n",
      "jupyter                           1.0.0\n",
      "jupyter_client                    7.4.9\n",
      "jupyter-console                   6.6.3\n",
      "jupyter_core                      5.5.0\n",
      "jupyter-events                    0.8.0\n",
      "jupyter-lsp                       2.2.0\n",
      "jupyter_server                    2.10.0\n",
      "jupyter_server_fileid             0.9.0\n",
      "jupyter_server_terminals          0.4.4\n",
      "jupyter_server_ydoc               0.8.0\n",
      "jupyter-ydoc                      0.2.4\n",
      "jupyterlab                        3.6.7\n",
      "jupyterlab-pygments               0.1.2\n",
      "jupyterlab_server                 2.25.1\n",
      "jupyterlab-widgets                3.0.10\n",
      "keyring                           23.13.1\n",
      "kiwisolver                        1.4.4\n",
      "lazy_loader                       0.3\n",
      "lazy-object-proxy                 1.6.0\n",
      "lckr_jupyterlab_variableinspector 3.1.0\n",
      "libarchive-c                      2.9\n",
      "libmambapy                        1.5.6\n",
      "linkify-it-py                     2.0.0\n",
      "llvmlite                          0.42.0\n",
      "lmdb                              1.4.1\n",
      "locket                            1.0.0\n",
      "lxml                              4.9.3\n",
      "lz4                               4.3.2\n",
      "Mako                              1.3.5\n",
      "Markdown                          3.4.1\n",
      "markdown-it-py                    2.2.0\n",
      "MarkupSafe                        2.1.3\n",
      "matplotlib                        3.8.0\n",
      "matplotlib-inline                 0.1.6\n",
      "mccabe                            0.7.0\n",
      "mdit-py-plugins                   0.3.0\n",
      "mdurl                             0.1.0\n",
      "menuinst                          2.0.2\n",
      "mistune                           2.0.4\n",
      "mlflow                            2.12.2\n",
      "more-itertools                    10.1.0\n",
      "mpmath                            1.3.0\n",
      "msgpack                           1.0.3\n",
      "multidict                         6.0.4\n",
      "multipledispatch                  0.6.0\n",
      "munkres                           1.1.4\n",
      "mypy                              1.8.0\n",
      "mypy-extensions                   1.0.0\n",
      "navigator-updater                 0.4.0\n",
      "nbclassic                         1.0.0\n",
      "nbclient                          0.8.0\n",
      "nbconvert                         7.10.0\n",
      "nbformat                          5.9.2\n",
      "nest-asyncio                      1.6.0\n",
      "networkx                          3.1\n",
      "nltk                              3.8.1\n",
      "notebook                          6.5.4\n",
      "notebook_shim                     0.2.3\n",
      "numba                             0.59.0\n",
      "numexpr                           2.8.7\n",
      "numpy                             1.26.4\n",
      "numpydoc                          1.5.0\n",
      "openpyxl                          3.0.10\n",
      "optuna                            3.6.1\n",
      "orjson                            3.10.3\n",
      "overrides                         7.4.0\n",
      "packaging                         23.1\n",
      "pandas                            2.1.4\n",
      "pandocfilters                     1.5.0\n",
      "panel                             1.3.8\n",
      "param                             2.0.2\n",
      "parsel                            1.8.1\n",
      "parso                             0.8.3\n",
      "partd                             1.4.1\n",
      "pathlib                           1.0.1\n",
      "pathspec                          0.10.3\n",
      "patsy                             0.5.3\n",
      "pexpect                           4.8.0\n",
      "pickleshare                       0.7.5\n",
      "pillow                            10.2.0\n",
      "pip                               23.3.1\n",
      "pkce                              1.0.3\n",
      "pkginfo                           1.9.6\n",
      "platformdirs                      3.10.0\n",
      "plotly                            5.9.0\n",
      "pluggy                            1.0.0\n",
      "ply                               3.11\n",
      "prometheus-client                 0.14.1\n",
      "prompt-toolkit                    3.0.43\n",
      "Protego                           0.1.16\n",
      "protobuf                          3.20.3\n",
      "psutil                            5.9.0\n",
      "ptyprocess                        0.7.0\n",
      "pure-eval                         0.2.2\n",
      "py-cpuinfo                        9.0.0\n",
      "pyarrow                           14.0.2\n",
      "pyasn1                            0.4.8\n",
      "pyasn1-modules                    0.2.8\n",
      "pycodestyle                       2.11.1\n",
      "pycosat                           0.6.6\n",
      "pycparser                         2.21\n",
      "pyct                              0.5.0\n",
      "pycurl                            7.45.2\n",
      "pydantic                          1.10.12\n",
      "pydeck                            0.7.1\n",
      "PyDispatcher                      2.0.5\n",
      "pydocstyle                        6.3.0\n",
      "pyerfa                            2.0.0\n",
      "pyflakes                          3.2.0\n",
      "Pygments                          2.15.1\n",
      "PyJWT                             2.4.0\n",
      "pylint                            2.16.2\n",
      "pylint-venv                       3.0.3\n",
      "pyls-spyder                       0.4.0\n",
      "Pympler                           0.9\n",
      "pyobjc-core                       9.0\n",
      "pyobjc-framework-Cocoa            9.0\n",
      "pyobjc-framework-CoreServices     9.0\n",
      "pyobjc-framework-FSEvents         9.0\n",
      "pyodbc                            5.0.1\n",
      "pyOpenSSL                         24.0.0\n",
      "pyparsing                         3.0.9\n",
      "PyQt5                             5.15.10\n",
      "PyQt5-sip                         12.13.0\n",
      "PyQtWebEngine                     5.15.6\n",
      "PySocks                           1.7.1\n",
      "pytest                            7.4.0\n",
      "python-dateutil                   2.8.2\n",
      "python-dotenv                     0.21.0\n",
      "python-json-logger                2.0.7\n",
      "python-lsp-black                  2.0.0\n",
      "python-lsp-jsonrpc                1.1.2\n",
      "python-lsp-server                 1.10.0\n",
      "python-multipart                  0.0.9\n",
      "python-slugify                    5.0.2\n",
      "python-snappy                     0.6.1\n",
      "pytoolconfig                      1.2.6\n",
      "pytz                              2023.3.post1\n",
      "pyviz-comms                       2.3.0\n",
      "pywavelets                        1.5.0\n",
      "PyYAML                            6.0.1\n",
      "pyzmq                             24.0.1\n",
      "QDarkStyle                        3.2.3\n",
      "qstylizer                         0.2.2\n",
      "QtAwesome                         1.2.2\n",
      "qtconsole                         5.5.1\n",
      "QtPy                              2.4.1\n",
      "querystring-parser                1.2.4\n",
      "queuelib                          1.6.2\n",
      "referencing                       0.30.2\n",
      "regex                             2023.10.3\n",
      "requests                          2.31.0\n",
      "requests-file                     1.5.1\n",
      "requests-toolbelt                 1.0.0\n",
      "rfc3339-validator                 0.1.4\n",
      "rfc3986-validator                 0.1.1\n",
      "rich                              13.3.5\n",
      "rope                              1.12.0\n",
      "rpds-py                           0.10.6\n",
      "Rtree                             1.0.1\n",
      "ruamel.yaml                       0.17.21\n",
      "ruamel-yaml-conda                 0.17.21\n",
      "s3fs                              2023.10.0\n",
      "safetensors                       0.4.3\n",
      "scikit-image                      0.22.0\n",
      "scikit-learn                      1.2.2\n",
      "scipy                             1.11.4\n",
      "Scrapy                            2.8.0\n",
      "seaborn                           0.12.2\n",
      "semver                            2.13.0\n",
      "Send2Trash                        1.8.2\n",
      "service-identity                  18.1.0\n",
      "setuptools                        68.2.2\n",
      "shellingham                       1.5.4\n",
      "sip                               6.7.12\n",
      "six                               1.16.0\n",
      "smart-open                        5.2.1\n",
      "smmap                             4.0.0\n",
      "sniffio                           1.3.0\n",
      "snowballstemmer                   2.2.0\n",
      "sortedcontainers                  2.4.0\n",
      "soupsieve                         2.5\n",
      "Sphinx                            5.0.2\n",
      "sphinxcontrib-applehelp           1.0.2\n",
      "sphinxcontrib-devhelp             1.0.2\n",
      "sphinxcontrib-htmlhelp            2.0.0\n",
      "sphinxcontrib-jsmath              1.0.1\n",
      "sphinxcontrib-qthelp              1.0.3\n",
      "sphinxcontrib-serializinghtml     1.1.5\n",
      "spyder                            5.5.1\n",
      "spyder-kernels                    2.5.0\n",
      "SQLAlchemy                        2.0.25\n",
      "sqlparse                          0.5.0\n",
      "stack-data                        0.2.0\n",
      "starlette                         0.37.2\n",
      "statsmodels                       0.14.0\n",
      "streamlit                         1.16.0\n",
      "sympy                             1.12\n",
      "tables                            3.9.2\n",
      "tabulate                          0.9.0\n",
      "tblib                             1.7.0\n",
      "tenacity                          8.2.2\n",
      "terminado                         0.17.1\n",
      "text-unidecode                    1.3\n",
      "textdistance                      4.2.1\n",
      "threadpoolctl                     2.2.0\n",
      "three-merge                       0.1.1\n",
      "tifffile                          2023.4.12\n",
      "tinycss2                          1.2.1\n",
      "tldextract                        3.2.0\n",
      "tokenizers                        0.19.1\n",
      "toml                              0.10.2\n",
      "tomli                             2.0.1\n",
      "tomlkit                           0.11.1\n",
      "toolz                             0.12.0\n",
      "torch                             2.3.0\n",
      "torchvision                       0.18.0\n",
      "tornado                           6.3.3\n",
      "tqdm                              4.66.4\n",
      "traitlets                         5.7.1\n",
      "transformers                      4.41.1\n",
      "truststore                        0.8.0\n",
      "Twisted                           23.10.0\n",
      "typer                             0.12.3\n",
      "typing_extensions                 4.9.0\n",
      "tzdata                            2023.3\n",
      "tzlocal                           2.1\n",
      "uc-micro-py                       1.0.1\n",
      "ujson                             5.4.0\n",
      "Unidecode                         1.2.0\n",
      "urllib3                           2.0.7\n",
      "uvicorn                           0.30.0\n",
      "uvloop                            0.19.0\n",
      "validators                        0.18.2\n",
      "w3lib                             2.1.2\n",
      "watchdog                          2.1.6\n",
      "watchfiles                        0.22.0\n",
      "wcwidth                           0.2.5\n",
      "webencodings                      0.5.1\n",
      "websocket-client                  0.58.0\n",
      "websockets                        12.0\n",
      "Werkzeug                          2.2.3\n",
      "whatthepatch                      1.0.2\n",
      "wheel                             0.41.2\n",
      "widgetsnbextension                4.0.10\n",
      "wrapt                             1.14.1\n",
      "wurlitzer                         3.0.2\n",
      "xarray                            2023.6.0\n",
      "xlwings                           0.29.1\n",
      "xyzservices                       2022.9.0\n",
      "y-py                              0.5.9\n",
      "yapf                              0.40.2\n",
      "yarl                              1.9.3\n",
      "ypy-websocket                     0.8.2\n",
      "zict                              3.0.0\n",
      "zipp                              3.17.0\n",
      "zope.interface                    5.4.0\n",
      "zstandard                         0.19.0\n"
     ]
    }
   ],
   "source": [
    "! pip list"
   ]
  },
  {
   "cell_type": "code",
   "execution_count": 3,
   "id": "a4ab3a6e-5593-49ee-bca6-12d224fd68a7",
   "metadata": {
    "tags": []
   },
   "outputs": [],
   "source": [
    "import json\n",
    "\n",
    "with open('data/node2name.json', 'r') as f:\n",
    "    node2name = json.load(f)\n",
    "\n",
    "node2name = {int(k):v for k,v in node2name.items()}\n"
   ]
  },
  {
   "cell_type": "code",
   "execution_count": 5,
   "id": "d523edb6-2c82-4f46-92c6-a8b2812ce05e",
   "metadata": {
    "tags": []
   },
   "outputs": [],
   "source": [
    "# node2name"
   ]
  },
  {
   "cell_type": "code",
   "execution_count": 7,
   "id": "46f26a69-7a82-42d5-8a46-309178194a14",
   "metadata": {
    "tags": []
   },
   "outputs": [],
   "source": [
    "import pandas as pd\n",
    "\n",
    "df = pd.read_parquet('data/clickstream.parque')\n",
    "df = df.head(100_000)"
   ]
  },
  {
   "cell_type": "code",
   "execution_count": 9,
   "id": "4b9b6966-efcb-402e-b96d-c2a25b26c451",
   "metadata": {
    "tags": []
   },
   "outputs": [],
   "source": [
    "df['is_train'] = df['event_date']< df['event_date'].max() - pd.Timedelta('2 day')\n",
    "df['names'] = df['node_id'].map(node2name)"
   ]
  },
  {
   "cell_type": "code",
   "execution_count": 11,
   "id": "c988e382-1568-47ce-a3f7-ccbeb00ce4c2",
   "metadata": {
    "tags": []
   },
   "outputs": [
    {
     "data": {
      "text/html": [
       "<div>\n",
       "<style scoped>\n",
       "    .dataframe tbody tr th:only-of-type {\n",
       "        vertical-align: middle;\n",
       "    }\n",
       "\n",
       "    .dataframe tbody tr th {\n",
       "        vertical-align: top;\n",
       "    }\n",
       "\n",
       "    .dataframe thead th {\n",
       "        text-align: right;\n",
       "    }\n",
       "</style>\n",
       "<table border=\"1\" class=\"dataframe\">\n",
       "  <thead>\n",
       "    <tr style=\"text-align: right;\">\n",
       "      <th></th>\n",
       "      <th>cookie_id</th>\n",
       "      <th>event_date</th>\n",
       "      <th>node_id</th>\n",
       "      <th>is_train</th>\n",
       "      <th>names</th>\n",
       "    </tr>\n",
       "  </thead>\n",
       "  <tbody>\n",
       "    <tr>\n",
       "      <th>0</th>\n",
       "      <td>15157399</td>\n",
       "      <td>2024-02-21 11:20:01</td>\n",
       "      <td>1047840</td>\n",
       "      <td>True</td>\n",
       "      <td>root -&gt; Транспорт -&gt; Запчасти и аксессуары -&gt; ...</td>\n",
       "    </tr>\n",
       "    <tr>\n",
       "      <th>1</th>\n",
       "      <td>15157399</td>\n",
       "      <td>2024-03-05 10:24:54</td>\n",
       "      <td>1047561</td>\n",
       "      <td>True</td>\n",
       "      <td>root -&gt; Услуги -&gt; Предложения услуг -&gt; Красота...</td>\n",
       "    </tr>\n",
       "    <tr>\n",
       "      <th>2</th>\n",
       "      <td>15157399</td>\n",
       "      <td>2024-03-05 10:28:55</td>\n",
       "      <td>1047561</td>\n",
       "      <td>True</td>\n",
       "      <td>root -&gt; Услуги -&gt; Предложения услуг -&gt; Красота...</td>\n",
       "    </tr>\n",
       "    <tr>\n",
       "      <th>3</th>\n",
       "      <td>15157399</td>\n",
       "      <td>2024-04-13 11:22:25</td>\n",
       "      <td>1047835</td>\n",
       "      <td>True</td>\n",
       "      <td>root -&gt; Транспорт -&gt; Запчасти и аксессуары -&gt; ...</td>\n",
       "    </tr>\n",
       "    <tr>\n",
       "      <th>4</th>\n",
       "      <td>15157399</td>\n",
       "      <td>2024-04-13 11:22:45</td>\n",
       "      <td>1047835</td>\n",
       "      <td>True</td>\n",
       "      <td>root -&gt; Транспорт -&gt; Запчасти и аксессуары -&gt; ...</td>\n",
       "    </tr>\n",
       "    <tr>\n",
       "      <th>...</th>\n",
       "      <td>...</td>\n",
       "      <td>...</td>\n",
       "      <td>...</td>\n",
       "      <td>...</td>\n",
       "      <td>...</td>\n",
       "    </tr>\n",
       "    <tr>\n",
       "      <th>99995</th>\n",
       "      <td>20324089388</td>\n",
       "      <td>2024-04-06 20:22:13</td>\n",
       "      <td>1114510</td>\n",
       "      <td>True</td>\n",
       "      <td>root -&gt; Личные вещи -&gt; Одежда, обувь, аксессуа...</td>\n",
       "    </tr>\n",
       "    <tr>\n",
       "      <th>99996</th>\n",
       "      <td>20324089388</td>\n",
       "      <td>2024-04-06 20:24:20</td>\n",
       "      <td>1114510</td>\n",
       "      <td>True</td>\n",
       "      <td>root -&gt; Личные вещи -&gt; Одежда, обувь, аксессуа...</td>\n",
       "    </tr>\n",
       "    <tr>\n",
       "      <th>99997</th>\n",
       "      <td>20324089388</td>\n",
       "      <td>2024-04-06 20:27:25</td>\n",
       "      <td>1114510</td>\n",
       "      <td>True</td>\n",
       "      <td>root -&gt; Личные вещи -&gt; Одежда, обувь, аксессуа...</td>\n",
       "    </tr>\n",
       "    <tr>\n",
       "      <th>99998</th>\n",
       "      <td>20324089388</td>\n",
       "      <td>2024-04-06 20:33:10</td>\n",
       "      <td>1114510</td>\n",
       "      <td>True</td>\n",
       "      <td>root -&gt; Личные вещи -&gt; Одежда, обувь, аксессуа...</td>\n",
       "    </tr>\n",
       "    <tr>\n",
       "      <th>99999</th>\n",
       "      <td>20324089388</td>\n",
       "      <td>2024-04-06 20:50:12</td>\n",
       "      <td>1114511</td>\n",
       "      <td>True</td>\n",
       "      <td>root -&gt; Личные вещи -&gt; Одежда, обувь, аксессуа...</td>\n",
       "    </tr>\n",
       "  </tbody>\n",
       "</table>\n",
       "<p>100000 rows × 5 columns</p>\n",
       "</div>"
      ],
      "text/plain": [
       "         cookie_id          event_date  node_id  is_train  \\\n",
       "0         15157399 2024-02-21 11:20:01  1047840      True   \n",
       "1         15157399 2024-03-05 10:24:54  1047561      True   \n",
       "2         15157399 2024-03-05 10:28:55  1047561      True   \n",
       "3         15157399 2024-04-13 11:22:25  1047835      True   \n",
       "4         15157399 2024-04-13 11:22:45  1047835      True   \n",
       "...            ...                 ...      ...       ...   \n",
       "99995  20324089388 2024-04-06 20:22:13  1114510      True   \n",
       "99996  20324089388 2024-04-06 20:24:20  1114510      True   \n",
       "99997  20324089388 2024-04-06 20:27:25  1114510      True   \n",
       "99998  20324089388 2024-04-06 20:33:10  1114510      True   \n",
       "99999  20324089388 2024-04-06 20:50:12  1114511      True   \n",
       "\n",
       "                                                   names  \n",
       "0      root -> Транспорт -> Запчасти и аксессуары -> ...  \n",
       "1      root -> Услуги -> Предложения услуг -> Красота...  \n",
       "2      root -> Услуги -> Предложения услуг -> Красота...  \n",
       "3      root -> Транспорт -> Запчасти и аксессуары -> ...  \n",
       "4      root -> Транспорт -> Запчасти и аксессуары -> ...  \n",
       "...                                                  ...  \n",
       "99995  root -> Личные вещи -> Одежда, обувь, аксессуа...  \n",
       "99996  root -> Личные вещи -> Одежда, обувь, аксессуа...  \n",
       "99997  root -> Личные вещи -> Одежда, обувь, аксессуа...  \n",
       "99998  root -> Личные вещи -> Одежда, обувь, аксессуа...  \n",
       "99999  root -> Личные вещи -> Одежда, обувь, аксессуа...  \n",
       "\n",
       "[100000 rows x 5 columns]"
      ]
     },
     "execution_count": 11,
     "metadata": {},
     "output_type": "execute_result"
    }
   ],
   "source": [
    "df"
   ]
  },
  {
   "cell_type": "code",
   "execution_count": 13,
   "id": "88a64aab-a44e-400f-93e7-ef0fb2646b9d",
   "metadata": {
    "tags": []
   },
   "outputs": [],
   "source": [
    "train_cooks = df[df['is_train']]['cookie_id'].unique()\n",
    "train_items = df[df['is_train']]['node_id'].unique()\n",
    "\n",
    "\n",
    "df = df[(df['cookie_id'].isin(train_cooks)) & (df['node_id'].isin(train_items))]"
   ]
  },
  {
   "cell_type": "code",
   "execution_count": 15,
   "id": "aaa39801-c8df-4e34-b296-e87d0e4f7ef5",
   "metadata": {
    "tags": []
   },
   "outputs": [
    {
     "name": "stderr",
     "output_type": "stream",
     "text": [
      "/var/folders/xf/j3td0vwj0xqbz2j3tfnmww200000gn/T/ipykernel_78084/541588533.py:2: SettingWithCopyWarning: \n",
      "A value is trying to be set on a copy of a slice from a DataFrame.\n",
      "Try using .loc[row_indexer,col_indexer] = value instead\n",
      "\n",
      "See the caveats in the documentation: https://pandas.pydata.org/pandas-docs/stable/user_guide/indexing.html#returning-a-view-versus-a-copy\n",
      "  df['user_index'] = user_indes\n",
      "/var/folders/xf/j3td0vwj0xqbz2j3tfnmww200000gn/T/ipykernel_78084/541588533.py:5: SettingWithCopyWarning: \n",
      "A value is trying to be set on a copy of a slice from a DataFrame.\n",
      "Try using .loc[row_indexer,col_indexer] = value instead\n",
      "\n",
      "See the caveats in the documentation: https://pandas.pydata.org/pandas-docs/stable/user_guide/indexing.html#returning-a-view-versus-a-copy\n",
      "  df['node_index'] = node_indes\n"
     ]
    }
   ],
   "source": [
    "user_indes, index2user_id = pd.factorize(df['cookie_id'])\n",
    "df['user_index'] = user_indes\n",
    "\n",
    "node_indes, index2node = pd.factorize(df['node_id'])\n",
    "df['node_index'] = node_indes"
   ]
  },
  {
   "cell_type": "code",
   "execution_count": 17,
   "id": "c31c0bc7-1a48-4b8f-a5be-560abda17c72",
   "metadata": {
    "tags": []
   },
   "outputs": [
    {
     "data": {
      "text/plain": [
       "2175"
      ]
     },
     "execution_count": 17,
     "metadata": {},
     "output_type": "execute_result"
    }
   ],
   "source": [
    "df['node_index'].max()"
   ]
  },
  {
   "cell_type": "code",
   "execution_count": 19,
   "id": "2348281f-2833-43d7-b7bc-7323a18e08e8",
   "metadata": {
    "tags": []
   },
   "outputs": [
    {
     "data": {
      "text/html": [
       "<div>\n",
       "<style scoped>\n",
       "    .dataframe tbody tr th:only-of-type {\n",
       "        vertical-align: middle;\n",
       "    }\n",
       "\n",
       "    .dataframe tbody tr th {\n",
       "        vertical-align: top;\n",
       "    }\n",
       "\n",
       "    .dataframe thead th {\n",
       "        text-align: right;\n",
       "    }\n",
       "</style>\n",
       "<table border=\"1\" class=\"dataframe\">\n",
       "  <thead>\n",
       "    <tr style=\"text-align: right;\">\n",
       "      <th></th>\n",
       "      <th>cookie_id</th>\n",
       "      <th>event_date</th>\n",
       "      <th>node_id</th>\n",
       "      <th>is_train</th>\n",
       "      <th>names</th>\n",
       "      <th>user_index</th>\n",
       "      <th>node_index</th>\n",
       "    </tr>\n",
       "  </thead>\n",
       "  <tbody>\n",
       "    <tr>\n",
       "      <th>0</th>\n",
       "      <td>15157399</td>\n",
       "      <td>2024-02-21 11:20:01</td>\n",
       "      <td>1047840</td>\n",
       "      <td>True</td>\n",
       "      <td>root -&gt; Транспорт -&gt; Запчасти и аксессуары -&gt; ...</td>\n",
       "      <td>0</td>\n",
       "      <td>0</td>\n",
       "    </tr>\n",
       "    <tr>\n",
       "      <th>1</th>\n",
       "      <td>15157399</td>\n",
       "      <td>2024-03-05 10:24:54</td>\n",
       "      <td>1047561</td>\n",
       "      <td>True</td>\n",
       "      <td>root -&gt; Услуги -&gt; Предложения услуг -&gt; Красота...</td>\n",
       "      <td>0</td>\n",
       "      <td>1</td>\n",
       "    </tr>\n",
       "    <tr>\n",
       "      <th>2</th>\n",
       "      <td>15157399</td>\n",
       "      <td>2024-03-05 10:28:55</td>\n",
       "      <td>1047561</td>\n",
       "      <td>True</td>\n",
       "      <td>root -&gt; Услуги -&gt; Предложения услуг -&gt; Красота...</td>\n",
       "      <td>0</td>\n",
       "      <td>1</td>\n",
       "    </tr>\n",
       "    <tr>\n",
       "      <th>3</th>\n",
       "      <td>15157399</td>\n",
       "      <td>2024-04-13 11:22:25</td>\n",
       "      <td>1047835</td>\n",
       "      <td>True</td>\n",
       "      <td>root -&gt; Транспорт -&gt; Запчасти и аксессуары -&gt; ...</td>\n",
       "      <td>0</td>\n",
       "      <td>2</td>\n",
       "    </tr>\n",
       "    <tr>\n",
       "      <th>4</th>\n",
       "      <td>15157399</td>\n",
       "      <td>2024-04-13 11:22:45</td>\n",
       "      <td>1047835</td>\n",
       "      <td>True</td>\n",
       "      <td>root -&gt; Транспорт -&gt; Запчасти и аксессуары -&gt; ...</td>\n",
       "      <td>0</td>\n",
       "      <td>2</td>\n",
       "    </tr>\n",
       "  </tbody>\n",
       "</table>\n",
       "</div>"
      ],
      "text/plain": [
       "   cookie_id          event_date  node_id  is_train  \\\n",
       "0   15157399 2024-02-21 11:20:01  1047840      True   \n",
       "1   15157399 2024-03-05 10:24:54  1047561      True   \n",
       "2   15157399 2024-03-05 10:28:55  1047561      True   \n",
       "3   15157399 2024-04-13 11:22:25  1047835      True   \n",
       "4   15157399 2024-04-13 11:22:45  1047835      True   \n",
       "\n",
       "                                               names  user_index  node_index  \n",
       "0  root -> Транспорт -> Запчасти и аксессуары -> ...           0           0  \n",
       "1  root -> Услуги -> Предложения услуг -> Красота...           0           1  \n",
       "2  root -> Услуги -> Предложения услуг -> Красота...           0           1  \n",
       "3  root -> Транспорт -> Запчасти и аксессуары -> ...           0           2  \n",
       "4  root -> Транспорт -> Запчасти и аксессуары -> ...           0           2  "
      ]
     },
     "execution_count": 19,
     "metadata": {},
     "output_type": "execute_result"
    }
   ],
   "source": [
    "df.head()"
   ]
  },
  {
   "cell_type": "code",
   "execution_count": 21,
   "id": "63b61d95-a8bd-42a9-bf00-b21b543ea5a7",
   "metadata": {
    "tags": []
   },
   "outputs": [
    {
     "data": {
      "text/plain": [
       "((96611, 7), (3333, 7))"
      ]
     },
     "execution_count": 21,
     "metadata": {},
     "output_type": "execute_result"
    }
   ],
   "source": [
    "df_train, df_test = df[df['is_train']], df[~df['is_train']]\n",
    "df_train = df_train.reset_index(drop=True)\n",
    "df_test = df_test.reset_index(drop=True)\n",
    "\n",
    "\n",
    "df_train.shape, df_test.shape"
   ]
  },
  {
   "cell_type": "code",
   "execution_count": 23,
   "id": "46dcfde2-cdc4-4954-8643-33a3f9d63698",
   "metadata": {
    "tags": []
   },
   "outputs": [],
   "source": [
    "# фиксируем все сиды для воспроизводимости\n",
    "\n",
    "import os \n",
    "import random\n",
    "import numpy as np \n",
    "\n",
    "DEFAULT_RANDOM_SEED = 123\n",
    "\n",
    "def seedBasic(seed=DEFAULT_RANDOM_SEED):\n",
    "    random.seed(seed)\n",
    "    os.environ['PYTHONHASHSEED'] = str(seed)\n",
    "    np.random.seed(seed)\n",
    "    \n",
    "# torch random seed\n",
    "import torch\n",
    "def seedTorch(seed=DEFAULT_RANDOM_SEED):\n",
    "    torch.manual_seed(seed)\n",
    "    torch.cuda.manual_seed(seed)\n",
    "    torch.backends.cudnn.deterministic = True\n",
    "    torch.backends.cudnn.benchmark = False\n",
    "      \n",
    "# basic + torch \n",
    "def seedEverything(seed=DEFAULT_RANDOM_SEED):\n",
    "    seedBasic(seed)\n",
    "    seedTorch(seed)"
   ]
  },
  {
   "cell_type": "code",
   "execution_count": 25,
   "id": "13349dd1-0e15-4879-bb1c-204c425984be",
   "metadata": {
    "tags": []
   },
   "outputs": [],
   "source": [
    "import torch\n",
    "from torch import nn\n",
    "import random \n",
    "from tqdm.auto import tqdm\n",
    "\n",
    "from torch.utils.data import Dataset, DataLoader\n",
    "\n",
    "\n",
    "seedEverything()\n",
    "\n",
    "\n",
    "class RecDataset(Dataset):\n",
    "    def __init__(self, users, items, item_per_users):\n",
    "        self.users = users\n",
    "        self.items = items\n",
    "        self.item_per_users=item_per_users\n",
    "\n",
    "    def __len__(self):\n",
    "        return len(self.users)\n",
    "\n",
    "    def __getitem__(self, i):\n",
    "        user = self.users[i]\n",
    "        return torch.tensor(user), torch.tensor(self.items[i]), self.item_per_users[user]\n",
    "\n",
    "\n",
    "class LatentFactorModel(nn.Module):\n",
    "    def __init__(self, edim, user_indexes, node_indexes):\n",
    "        super(LatentFactorModel, self).__init__()\n",
    "        self.edim = edim\n",
    "        self.users = nn.Embedding(max(user_indexes) + 1, edim)\n",
    "        self.items = nn.Embedding(max(node_indexes) + 1, edim)\n",
    "\n",
    "    def forward(self, users, items):\n",
    "        user_embedings = self.users(users).reshape(-1, self.edim )\n",
    "        item_embedings = self.items(items)\n",
    "        res = torch.einsum('be,bne->bn', user_embedings, item_embedings)\n",
    "        return res \n",
    "\n",
    "    def pred_top_k(self, users, K=10):\n",
    "        user_embedings = self.users(users).reshape(-1, self.edim )\n",
    "        item_embedings = self.items.weight\n",
    "        res = torch.einsum('ue,ie->ui', user_embedings, item_embedings)\n",
    "        return torch.topk(res, K, dim=1)\n",
    "\n",
    "    \n",
    "\n",
    "\n",
    "def collate_fn(batch, num_negatives, num_items):\n",
    "    users, target_items, users_negatives = [],[], []\n",
    "    for triplets in batch:\n",
    "        user, target_item, seen_item = triplets\n",
    "        \n",
    "        users.append(user)\n",
    "        target_items.append(target_item)\n",
    "        user_negatives = []\n",
    "        \n",
    "        while len(user_negatives)< num_negatives:\n",
    "            candidate = random.randint(0, num_items)\n",
    "            if candidate not in seen_item:\n",
    "                user_negatives.append(candidate)\n",
    "                \n",
    "        users_negatives.append(user_negatives)\n",
    "                \n",
    "    \n",
    "    positive = torch.ones(len(batch), 1)       \n",
    "    negatives = torch.zeros(len(batch), num_negatives)\n",
    "    labels = torch.hstack([positive, negatives])\n",
    "    # print(torch.tensor(target_items))\n",
    "    # print(users_negatives)\n",
    "    items = torch.hstack([torch.tensor(target_items).reshape(-1, 1), torch.tensor(users_negatives)])\n",
    "    return torch.hstack(users), items, labels\n",
    "\n",
    "    "
   ]
  },
  {
   "cell_type": "code",
   "execution_count": 27,
   "id": "14069993-68c8-424c-953f-54d19fcb71ef",
   "metadata": {
    "tags": []
   },
   "outputs": [],
   "source": [
    "user2seen = df_train.groupby('user_index')['node_index'].agg(lambda x: list(set(x)))"
   ]
  },
  {
   "cell_type": "code",
   "execution_count": 29,
   "id": "f5a6c714-9c4d-4020-bc02-3e657e202992",
   "metadata": {
    "tags": []
   },
   "outputs": [
    {
     "data": {
      "application/vnd.jupyter.widget-view+json": {
       "model_id": "8ebeb505e41949d5b03c38eedca7457a",
       "version_major": 2,
       "version_minor": 0
      },
      "text/plain": [
       "  0%|          | 0/10 [00:00<?, ?it/s]"
      ]
     },
     "metadata": {},
     "output_type": "display_data"
    }
   ],
   "source": [
    "seedEverything()\n",
    "\n",
    "BATCH_SIZE = 50_000\n",
    "NUM_NEGATIVES = 5\n",
    "EDIM = 128\n",
    "EPOCH = 10\n",
    "OPTIMIZER_NAME = 'Adam'\n",
    "LR = 1\n",
    "\n",
    "train_dataset = RecDataset(df_train['user_index'].values, df_train['node_index'], user2seen)\n",
    "\n",
    "\n",
    "dataloader = DataLoader(train_dataset, shuffle=True,num_workers=0, batch_size=BATCH_SIZE,collate_fn=lambda x: collate_fn(x, NUM_NEGATIVES, max(df['node_index'].values)))\n",
    "\n",
    "\n",
    "model = LatentFactorModel(EDIM, user_indes, node_indes)\n",
    "optimizer = torch.optim.Adam(model.parameters(), LR)\n",
    " \n",
    "bar = tqdm(total = EPOCH )\n"
   ]
  },
  {
   "cell_type": "code",
   "execution_count": 31,
   "id": "4819823d-a5ff-4ab0-b610-a12e201ed796",
   "metadata": {
    "scrolled": true,
    "tags": []
   },
   "outputs": [
    {
     "data": {
      "application/vnd.jupyter.widget-view+json": {
       "model_id": "9d96d6a3eb874d4693159a3148480a44",
       "version_major": 2,
       "version_minor": 0
      },
      "text/plain": [
       "  0%|          | 0/2 [00:00<?, ?it/s]"
      ]
     },
     "metadata": {},
     "output_type": "display_data"
    },
    {
     "data": {
      "application/vnd.jupyter.widget-view+json": {
       "model_id": "b57cc3b9594848eeb82b8baaeb16f042",
       "version_major": 2,
       "version_minor": 0
      },
      "text/plain": [
       "  0%|          | 0/2 [00:00<?, ?it/s]"
      ]
     },
     "metadata": {},
     "output_type": "display_data"
    },
    {
     "data": {
      "application/vnd.jupyter.widget-view+json": {
       "model_id": "b8005d9ef3fd4302a573e4e85fce2a85",
       "version_major": 2,
       "version_minor": 0
      },
      "text/plain": [
       "  0%|          | 0/2 [00:00<?, ?it/s]"
      ]
     },
     "metadata": {},
     "output_type": "display_data"
    },
    {
     "data": {
      "application/vnd.jupyter.widget-view+json": {
       "model_id": "927890b550f64c9ea1a3281b872cc411",
       "version_major": 2,
       "version_minor": 0
      },
      "text/plain": [
       "  0%|          | 0/2 [00:00<?, ?it/s]"
      ]
     },
     "metadata": {},
     "output_type": "display_data"
    },
    {
     "data": {
      "application/vnd.jupyter.widget-view+json": {
       "model_id": "9dd1e2792a5548019cc6f58f98432801",
       "version_major": 2,
       "version_minor": 0
      },
      "text/plain": [
       "  0%|          | 0/2 [00:00<?, ?it/s]"
      ]
     },
     "metadata": {},
     "output_type": "display_data"
    },
    {
     "data": {
      "application/vnd.jupyter.widget-view+json": {
       "model_id": "68c0faef93444d05a4b768cd69073e4f",
       "version_major": 2,
       "version_minor": 0
      },
      "text/plain": [
       "  0%|          | 0/2 [00:00<?, ?it/s]"
      ]
     },
     "metadata": {},
     "output_type": "display_data"
    },
    {
     "data": {
      "application/vnd.jupyter.widget-view+json": {
       "model_id": "194a1354744641b7b9cfda859c9d2c2e",
       "version_major": 2,
       "version_minor": 0
      },
      "text/plain": [
       "  0%|          | 0/2 [00:00<?, ?it/s]"
      ]
     },
     "metadata": {},
     "output_type": "display_data"
    },
    {
     "data": {
      "application/vnd.jupyter.widget-view+json": {
       "model_id": "7e1387aafe5d4740917bf066e68b64f7",
       "version_major": 2,
       "version_minor": 0
      },
      "text/plain": [
       "  0%|          | 0/2 [00:00<?, ?it/s]"
      ]
     },
     "metadata": {},
     "output_type": "display_data"
    },
    {
     "data": {
      "application/vnd.jupyter.widget-view+json": {
       "model_id": "234fa413d762452c96968ea227970477",
       "version_major": 2,
       "version_minor": 0
      },
      "text/plain": [
       "  0%|          | 0/2 [00:00<?, ?it/s]"
      ]
     },
     "metadata": {},
     "output_type": "display_data"
    },
    {
     "data": {
      "application/vnd.jupyter.widget-view+json": {
       "model_id": "84eefc1d620346f29a088607b685a689",
       "version_major": 2,
       "version_minor": 0
      },
      "text/plain": [
       "  0%|          | 0/2 [00:00<?, ?it/s]"
      ]
     },
     "metadata": {},
     "output_type": "display_data"
    }
   ],
   "source": [
    "seedEverything()\n",
    "\n",
    "for i in range(EPOCH):\n",
    "    bar_loader = tqdm(total = len(dataloader) ,)\n",
    "    losses = []\n",
    "    for i in dataloader:\n",
    "        users, items, labels = i\n",
    "        optimizer.zero_grad()\n",
    "        logits = model(users, items)\n",
    "        loss = torch.nn.functional.binary_cross_entropy_with_logits(\n",
    "            logits, labels\n",
    "        )\n",
    "        loss.backward()\n",
    "        optimizer.step()\n",
    "        bar_loader.update(1)\n",
    "        bar_loader.set_description(f'batch loss - {loss.item()}')\n",
    "        losses.append(loss.item())\n",
    "    \n",
    "    bar.update(1)\n",
    "    bar.set_description(f'epoch loss - {sum(losses)/len(losses)}')\n",
    "    "
   ]
  },
  {
   "cell_type": "code",
   "execution_count": 33,
   "id": "bd49d632-5c65-46b5-9f4b-f22cb3ff7e26",
   "metadata": {
    "tags": []
   },
   "outputs": [
    {
     "data": {
      "text/plain": [
       "['root -> Транспорт -> Запчасти и аксессуары -> Запчасти -> Для автомобилей -> Кузов',\n",
       " 'root -> Услуги -> Предложения услуг -> Красота, здоровье -> СПА-услуги, массаж',\n",
       " 'root -> Услуги -> Предложения услуг -> Красота, здоровье -> СПА-услуги, массаж',\n",
       " 'root -> Транспорт -> Запчасти и аксессуары -> Запчасти -> Для автомобилей -> Система охлаждения',\n",
       " 'root -> Транспорт -> Запчасти и аксессуары -> Запчасти -> Для автомобилей -> Система охлаждения',\n",
       " 'root -> Транспорт -> Запчасти и аксессуары -> Запчасти -> Для автомобилей -> Система охлаждения']"
      ]
     },
     "execution_count": 33,
     "metadata": {},
     "output_type": "execute_result"
    }
   ],
   "source": [
    "USER = 0\n",
    "\n",
    "preds = list(model.pred_top_k(torch.tensor([USER]), 10)[1][0].numpy())\n",
    "df[(df['user_index'] == USER) & (df['node_index'].isin(user2seen[USER]))]['names'].tolist()\n"
   ]
  },
  {
   "cell_type": "code",
   "execution_count": 35,
   "id": "524c7c03-972a-43ef-baa3-8575a60def25",
   "metadata": {
    "tags": []
   },
   "outputs": [
    {
     "data": {
      "text/plain": [
       "['root -> Транспорт -> Запчасти и аксессуары -> Запчасти -> Для автомобилей -> Система охлаждения',\n",
       " 'root -> Транспорт -> Запчасти и аксессуары -> Запчасти -> Для автомобилей -> Кузов',\n",
       " 'root -> Услуги -> Предложения услуг -> Красота, здоровье -> СПА-услуги, массаж',\n",
       " 'root -> Транспорт -> Автомобили -> С пробегом -> Volkswagen -> Golf',\n",
       " 'root -> Транспорт -> Запчасти и аксессуары -> Запчасти -> Для автомобилей -> Автосвет',\n",
       " 'root -> Транспорт -> Автомобили -> Внедорожник',\n",
       " 'root -> Услуги -> Предложения услуг -> Автосервис, аренда -> Автосервис -> Мойка и уход за авто',\n",
       " 'root -> Транспорт -> Запчасти и аксессуары -> Запчасти -> Для автомобилей -> Топливная и выхлопная системы',\n",
       " 'root -> Недвижимость -> Коммерческая недвижимость -> Продажа -> Помещение свободного назначения',\n",
       " 'root -> Транспорт -> Запчасти и аксессуары -> Шины, диски и колёса -> Диски -> 19 -> Литые -> 5x -> 114.3']"
      ]
     },
     "execution_count": 35,
     "metadata": {},
     "output_type": "execute_result"
    }
   ],
   "source": [
    "[node2name[index2node[i]] for i in preds]"
   ]
  },
  {
   "cell_type": "code",
   "execution_count": 37,
   "id": "35dc873f-0223-4404-83fe-ab290dc541f8",
   "metadata": {
    "tags": []
   },
   "outputs": [],
   "source": [
    "K = 100\n",
    "\n",
    "test_users = df_test['user_index'].unique()\n",
    "\n",
    "\n",
    "preds = model.pred_top_k(torch.tensor(test_users), K)[1].numpy()\n",
    "df_preds = pd.DataFrame({'node_index': list(preds),\n",
    "                         'user_index': test_users,\n",
    "                         'rank': [[j for j in range(0, K)]for i in range(len(preds))]})\n",
    "\n",
    "df_preds = df_preds.explode(['node_index', 'rank']).merge(\n",
    "    df_test[['user_index', 'node_index']].assign(relevant=1).drop_duplicates(),\n",
    "    on = ['user_index', 'node_index'],\n",
    "    how='left' ,\n",
    ")\n",
    "df_preds['relevant'] = df_preds['relevant'].fillna(0)"
   ]
  },
  {
   "cell_type": "code",
   "execution_count": 39,
   "id": "dc0d5ca3-9ca1-4502-980a-023fec5f4785",
   "metadata": {
    "tags": []
   },
   "outputs": [
    {
     "data": {
      "text/html": [
       "<div>\n",
       "<style scoped>\n",
       "    .dataframe tbody tr th:only-of-type {\n",
       "        vertical-align: middle;\n",
       "    }\n",
       "\n",
       "    .dataframe tbody tr th {\n",
       "        vertical-align: top;\n",
       "    }\n",
       "\n",
       "    .dataframe thead th {\n",
       "        text-align: right;\n",
       "    }\n",
       "</style>\n",
       "<table border=\"1\" class=\"dataframe\">\n",
       "  <thead>\n",
       "    <tr style=\"text-align: right;\">\n",
       "      <th></th>\n",
       "      <th>node_index</th>\n",
       "      <th>user_index</th>\n",
       "      <th>rank</th>\n",
       "      <th>relevant</th>\n",
       "    </tr>\n",
       "  </thead>\n",
       "  <tbody>\n",
       "    <tr>\n",
       "      <th>0</th>\n",
       "      <td>11</td>\n",
       "      <td>1</td>\n",
       "      <td>0</td>\n",
       "      <td>1.0</td>\n",
       "    </tr>\n",
       "    <tr>\n",
       "      <th>1</th>\n",
       "      <td>8</td>\n",
       "      <td>1</td>\n",
       "      <td>1</td>\n",
       "      <td>0.0</td>\n",
       "    </tr>\n",
       "    <tr>\n",
       "      <th>2</th>\n",
       "      <td>10</td>\n",
       "      <td>1</td>\n",
       "      <td>2</td>\n",
       "      <td>0.0</td>\n",
       "    </tr>\n",
       "    <tr>\n",
       "      <th>3</th>\n",
       "      <td>7</td>\n",
       "      <td>1</td>\n",
       "      <td>3</td>\n",
       "      <td>0.0</td>\n",
       "    </tr>\n",
       "    <tr>\n",
       "      <th>4</th>\n",
       "      <td>4</td>\n",
       "      <td>1</td>\n",
       "      <td>4</td>\n",
       "      <td>0.0</td>\n",
       "    </tr>\n",
       "    <tr>\n",
       "      <th>...</th>\n",
       "      <td>...</td>\n",
       "      <td>...</td>\n",
       "      <td>...</td>\n",
       "      <td>...</td>\n",
       "    </tr>\n",
       "    <tr>\n",
       "      <th>66695</th>\n",
       "      <td>1299</td>\n",
       "      <td>1658</td>\n",
       "      <td>95</td>\n",
       "      <td>0.0</td>\n",
       "    </tr>\n",
       "    <tr>\n",
       "      <th>66696</th>\n",
       "      <td>794</td>\n",
       "      <td>1658</td>\n",
       "      <td>96</td>\n",
       "      <td>0.0</td>\n",
       "    </tr>\n",
       "    <tr>\n",
       "      <th>66697</th>\n",
       "      <td>207</td>\n",
       "      <td>1658</td>\n",
       "      <td>97</td>\n",
       "      <td>0.0</td>\n",
       "    </tr>\n",
       "    <tr>\n",
       "      <th>66698</th>\n",
       "      <td>1148</td>\n",
       "      <td>1658</td>\n",
       "      <td>98</td>\n",
       "      <td>0.0</td>\n",
       "    </tr>\n",
       "    <tr>\n",
       "      <th>66699</th>\n",
       "      <td>222</td>\n",
       "      <td>1658</td>\n",
       "      <td>99</td>\n",
       "      <td>0.0</td>\n",
       "    </tr>\n",
       "  </tbody>\n",
       "</table>\n",
       "<p>66700 rows × 4 columns</p>\n",
       "</div>"
      ],
      "text/plain": [
       "      node_index  user_index rank  relevant\n",
       "0             11           1    0       1.0\n",
       "1              8           1    1       0.0\n",
       "2             10           1    2       0.0\n",
       "3              7           1    3       0.0\n",
       "4              4           1    4       0.0\n",
       "...          ...         ...  ...       ...\n",
       "66695       1299        1658   95       0.0\n",
       "66696        794        1658   96       0.0\n",
       "66697        207        1658   97       0.0\n",
       "66698       1148        1658   98       0.0\n",
       "66699        222        1658   99       0.0\n",
       "\n",
       "[66700 rows x 4 columns]"
      ]
     },
     "execution_count": 39,
     "metadata": {},
     "output_type": "execute_result"
    }
   ],
   "source": [
    "df_preds"
   ]
  },
  {
   "cell_type": "code",
   "execution_count": 41,
   "id": "ca5c9145-26b1-4e64-aabf-ac82e1ac4bee",
   "metadata": {
    "tags": []
   },
   "outputs": [
    {
     "data": {
      "text/plain": [
       "(0.8170914542728636, 100)"
      ]
     },
     "execution_count": 41,
     "metadata": {},
     "output_type": "execute_result"
    }
   ],
   "source": [
    "\n",
    "def calc_hitrate(df_preds, K):\n",
    "    return  df_preds[df_preds['rank']<K].groupby('user_index')['relevant'].max().mean()\n",
    "\n",
    "def calc_prec(df_preds, K):\n",
    "    return  (df_preds[df_preds['rank']<K].groupby('user_index')['relevant'].mean()).mean()\n",
    "    \n",
    "hitrate = calc_hitrate(df_preds, K)\n",
    "\n",
    "hitrate, K"
   ]
  },
  {
   "cell_type": "code",
   "execution_count": 43,
   "id": "debe9ed6-6ebe-4945-a404-407146c8e49d",
   "metadata": {
    "tags": []
   },
   "outputs": [
    {
     "data": {
      "text/plain": [
       "0.04302848575712144"
      ]
     },
     "execution_count": 43,
     "metadata": {},
     "output_type": "execute_result"
    }
   ],
   "source": [
    "prec = calc_prec(df_preds, 30)\n",
    "prec"
   ]
  },
  {
   "cell_type": "code",
   "execution_count": 45,
   "id": "e7bec888-1493-4851-a23d-d0bad1e62813",
   "metadata": {
    "tags": []
   },
   "outputs": [
    {
     "data": {
      "text/plain": [
       "2175"
      ]
     },
     "execution_count": 45,
     "metadata": {},
     "output_type": "execute_result"
    }
   ],
   "source": [
    "df_train['node_index'].max()"
   ]
  },
  {
   "cell_type": "code",
   "execution_count": 47,
   "id": "43cc796e-1235-47f1-8466-a59755569010",
   "metadata": {
    "tags": []
   },
   "outputs": [],
   "source": [
    "top_popular = df_train[['node_index']].assign(v=1).groupby('node_index').count().reset_index().sort_values(by='v').tail(K)['node_index'].values\n"
   ]
  },
  {
   "cell_type": "code",
   "execution_count": 49,
   "id": "ba04dcf0-1d0b-4580-9171-d6bbd5221693",
   "metadata": {
    "tags": []
   },
   "outputs": [
    {
     "data": {
      "text/plain": [
       "'root -> Транспорт -> Автомобили -> Внедорожник'"
      ]
     },
     "execution_count": 49,
     "metadata": {},
     "output_type": "execute_result"
    }
   ],
   "source": [
    "node2name[index2node[top_popular[-1]]]"
   ]
  },
  {
   "cell_type": "code",
   "execution_count": 51,
   "id": "c88a32e5-f0ca-483f-85e6-da90d3d16799",
   "metadata": {
    "tags": []
   },
   "outputs": [
    {
     "data": {
      "text/plain": [
       "0.6836581709145427"
      ]
     },
     "execution_count": 51,
     "metadata": {},
     "output_type": "execute_result"
    }
   ],
   "source": [
    "df_preds_top_poplular = pd.DataFrame({'node_index': [list(top_popular) for i in test_users], 'user_index': test_users, 'rank': [[j for j in range(0, K)]for i in range(len(test_users))]})\n",
    "\n",
    "\n",
    "df_preds_top_poplular = df_preds_top_poplular.explode(\n",
    "    ['node_index', 'rank']\n",
    ").merge(\n",
    "    df_test[['user_index', 'node_index']].assign(relevant=1).drop_duplicates(),\n",
    "    on = ['user_index', 'node_index'],\n",
    "    how='left' ,\n",
    ")\n",
    "df_preds_top_poplular['relevant'] = df_preds_top_poplular['relevant'].fillna(0)\n",
    "\n",
    "calc_hitrate(df_preds_top_poplular, K)"
   ]
  },
  {
   "cell_type": "code",
   "execution_count": 53,
   "id": "4a42c346-6dc9-499a-8b09-5a8d88b6fbbf",
   "metadata": {
    "tags": []
   },
   "outputs": [
    {
     "data": {
      "text/plain": [
       "0.006796601699150424"
      ]
     },
     "execution_count": 53,
     "metadata": {},
     "output_type": "execute_result"
    }
   ],
   "source": [
    "calc_prec(df_preds_top_poplular, 30)"
   ]
  },
  {
   "cell_type": "code",
   "execution_count": 94,
   "id": "719e5ead-c875-4ae2-a998-f6b4ef58d6fc",
   "metadata": {
    "tags": []
   },
   "outputs": [
    {
     "name": "stderr",
     "output_type": "stream",
     "text": [
      "2024/05/26 19:46:38 INFO mlflow.tracking.fluent: Experiment with name 'homework-marakhimova' does not exist. Creating a new experiment.\n"
     ]
    }
   ],
   "source": [
    "# логируем бейзлайн\n",
    "\n",
    "import mlflow\n",
    "\n",
    "mlflow.set_tracking_uri('http://84.201.128.89:90/')\n",
    "mlflow.set_experiment('homework-marakhimova')\n",
    "\n",
    "model_name = 'LatentFactorModel_baseline'\n",
    "\n",
    "with mlflow.start_run(run_name='baseline'):\n",
    "    mlflow.log_metrics(\n",
    "        {\n",
    "            'hitrate': hitrate, \n",
    "            'prec_30': prec,\n",
    "        }\n",
    "    )\n",
    "    mlflow.log_params(\n",
    "        {\n",
    "        'model_name': model_name,\n",
    "        'edim': EDIM,\n",
    "        'batch_size': BATCH_SIZE,\n",
    "        'lr': LR,\n",
    "        'epoch': EPOCH,\n",
    "        'num_negatives': NUM_NEGATIVES,\n",
    "        'optimizer_name': OPTIMIZER_NAME,\n",
    "        }\n",
    "    )"
   ]
  },
  {
   "cell_type": "markdown",
   "id": "009dbe87-41fb-4edd-b91c-ad4ebd664067",
   "metadata": {},
   "source": [
    "# ДЗ\n",
    "\n",
    "## Перебор параметров LFM\n",
    "1. перебрать параметры модели - edim,batch_size, lr, epoch , num_negatives -   (по **1 балу - 5 балов**) \n",
    "2. Тип OPTIMIZER_NAME - (4 бала за 5 оптимизаторов)"
   ]
  },
  {
   "cell_type": "code",
   "execution_count": 170,
   "id": "213b0834-b566-4da0-89d3-9eecd9603736",
   "metadata": {
    "tags": []
   },
   "outputs": [
    {
     "name": "stderr",
     "output_type": "stream",
     "text": [
      "[I 2024-05-26 21:48:51,067] A new study created in memory with name: LFM_tuning\n",
      "[I 2024-05-26 21:49:39,193] Trial 0 finished with value: 0.038730634682658666 and parameters: {'EDIM': 32, 'BATCH_SIZE': 10000, 'LR': 0.34383483813471855, 'EPOCH': 25, 'NUM_NEGATIVES': 15, 'OPTIMIZER_NAME': 'RMSprop'}. Best is trial 0 with value: 0.038730634682658666.\n",
      "[I 2024-05-26 21:50:19,552] Trial 1 finished with value: 0.042028985507246375 and parameters: {'EDIM': 256, 'BATCH_SIZE': 2000, 'LR': 0.2944203323424405, 'EPOCH': 25, 'NUM_NEGATIVES': 5, 'OPTIMIZER_NAME': 'RMSprop'}. Best is trial 1 with value: 0.042028985507246375.\n",
      "[I 2024-05-26 21:52:00,085] Trial 2 finished with value: 0.046476761619190406 and parameters: {'EDIM': 128, 'BATCH_SIZE': 25000, 'LR': 0.48355122999844163, 'EPOCH': 30, 'NUM_NEGATIVES': 20, 'OPTIMIZER_NAME': 'RMSprop'}. Best is trial 2 with value: 0.046476761619190406.\n",
      "[I 2024-05-26 21:52:34,886] Trial 3 finished with value: 0.04212893553223389 and parameters: {'EDIM': 256, 'BATCH_SIZE': 2000, 'LR': 0.842500095182637, 'EPOCH': 10, 'NUM_NEGATIVES': 25, 'OPTIMIZER_NAME': 'Adamax'}. Best is trial 2 with value: 0.046476761619190406.\n",
      "[I 2024-05-26 21:53:44,757] Trial 4 finished with value: 0.045277361319340334 and parameters: {'EDIM': 64, 'BATCH_SIZE': 20000, 'LR': 0.5548288664680543, 'EPOCH': 15, 'NUM_NEGATIVES': 30, 'OPTIMIZER_NAME': 'Adam'}. Best is trial 2 with value: 0.046476761619190406.\n",
      "[I 2024-05-26 21:54:13,414] Trial 5 finished with value: 0.048925537231384306 and parameters: {'EDIM': 64, 'BATCH_SIZE': 5000, 'LR': 0.5136150260448031, 'EPOCH': 25, 'NUM_NEGATIVES': 5, 'OPTIMIZER_NAME': 'Adagrad'}. Best is trial 5 with value: 0.048925537231384306.\n",
      "[I 2024-05-26 21:55:35,128] Trial 6 finished with value: 0.0066466766616691654 and parameters: {'EDIM': 32, 'BATCH_SIZE': 5000, 'LR': 0.0036853765097463716, 'EPOCH': 30, 'NUM_NEGATIVES': 30, 'OPTIMIZER_NAME': 'Adamax'}. Best is trial 5 with value: 0.048925537231384306.\n",
      "[I 2024-05-26 21:56:27,959] Trial 7 finished with value: 0.04897551224387807 and parameters: {'EDIM': 128, 'BATCH_SIZE': 25000, 'LR': 0.4289189274262483, 'EPOCH': 15, 'NUM_NEGATIVES': 15, 'OPTIMIZER_NAME': 'Adagrad'}. Best is trial 7 with value: 0.04897551224387807.\n",
      "[I 2024-05-26 21:56:51,277] Trial 8 finished with value: 0.04147926036981509 and parameters: {'EDIM': 64, 'BATCH_SIZE': 5000, 'LR': 0.6655962038843333, 'EPOCH': 10, 'NUM_NEGATIVES': 20, 'OPTIMIZER_NAME': 'Adam'}. Best is trial 7 with value: 0.04897551224387807.\n",
      "[I 2024-05-26 21:58:53,158] Trial 9 finished with value: 0.044027986006996506 and parameters: {'EDIM': 256, 'BATCH_SIZE': 5000, 'LR': 0.8595296866049308, 'EPOCH': 30, 'NUM_NEGATIVES': 30, 'OPTIMIZER_NAME': 'Adamax'}. Best is trial 7 with value: 0.04897551224387807.\n",
      "[I 2024-05-26 21:59:49,434] Trial 10 finished with value: 0.02788605697151424 and parameters: {'EDIM': 128, 'BATCH_SIZE': 25000, 'LR': 0.10007630362742764, 'EPOCH': 15, 'NUM_NEGATIVES': 10, 'OPTIMIZER_NAME': 'Adagrad'}. Best is trial 7 with value: 0.04897551224387807.\n",
      "[I 2024-05-26 22:00:41,238] Trial 11 finished with value: 0.046576711644177905 and parameters: {'EDIM': 64, 'BATCH_SIZE': 50000, 'LR': 0.3394339316602474, 'EPOCH': 20, 'NUM_NEGATIVES': 5, 'OPTIMIZER_NAME': 'Adagrad'}. Best is trial 7 with value: 0.04897551224387807.\n",
      "[I 2024-05-26 22:01:44,992] Trial 12 finished with value: 0.001199400299850075 and parameters: {'EDIM': 128, 'BATCH_SIZE': 25000, 'LR': 0.6779032511827727, 'EPOCH': 20, 'NUM_NEGATIVES': 10, 'OPTIMIZER_NAME': 'SGD'}. Best is trial 7 with value: 0.04897551224387807.\n",
      "[I 2024-05-26 22:02:32,316] Trial 13 finished with value: 0.049775112443778115 and parameters: {'EDIM': 64, 'BATCH_SIZE': 20000, 'LR': 0.5053005226688491, 'EPOCH': 15, 'NUM_NEGATIVES': 15, 'OPTIMIZER_NAME': 'Adagrad'}. Best is trial 13 with value: 0.049775112443778115.\n",
      "[I 2024-05-26 22:03:15,683] Trial 14 finished with value: 0.04922538730634682 and parameters: {'EDIM': 128, 'BATCH_SIZE': 20000, 'LR': 0.9966506315276034, 'EPOCH': 15, 'NUM_NEGATIVES': 15, 'OPTIMIZER_NAME': 'Adagrad'}. Best is trial 13 with value: 0.049775112443778115.\n",
      "[I 2024-05-26 22:04:04,236] Trial 15 finished with value: 0.04832583708145927 and parameters: {'EDIM': 64, 'BATCH_SIZE': 20000, 'LR': 0.9214983003119501, 'EPOCH': 15, 'NUM_NEGATIVES': 15, 'OPTIMIZER_NAME': 'Adagrad'}. Best is trial 13 with value: 0.049775112443778115.\n",
      "[I 2024-05-26 22:04:33,844] Trial 16 finished with value: 0.001199400299850075 and parameters: {'EDIM': 128, 'BATCH_SIZE': 20000, 'LR': 0.733099741011926, 'EPOCH': 10, 'NUM_NEGATIVES': 10, 'OPTIMIZER_NAME': 'SGD'}. Best is trial 13 with value: 0.049775112443778115.\n",
      "[I 2024-05-26 22:05:39,045] Trial 17 finished with value: 0.049425287356321845 and parameters: {'EDIM': 32, 'BATCH_SIZE': 20000, 'LR': 0.9689338309649883, 'EPOCH': 20, 'NUM_NEGATIVES': 20, 'OPTIMIZER_NAME': 'Adagrad'}. Best is trial 13 with value: 0.049775112443778115.\n",
      "[I 2024-05-26 22:06:46,848] Trial 18 finished with value: 0.03728135932033983 and parameters: {'EDIM': 32, 'BATCH_SIZE': 20000, 'LR': 0.1651943754234385, 'EPOCH': 20, 'NUM_NEGATIVES': 25, 'OPTIMIZER_NAME': 'Adagrad'}. Best is trial 13 with value: 0.049775112443778115.\n",
      "[I 2024-05-26 22:07:55,539] Trial 19 finished with value: 0.0463768115942029 and parameters: {'EDIM': 32, 'BATCH_SIZE': 50000, 'LR': 0.7943357859269715, 'EPOCH': 20, 'NUM_NEGATIVES': 20, 'OPTIMIZER_NAME': 'Adagrad'}. Best is trial 13 with value: 0.049775112443778115.\n",
      "[I 2024-05-26 22:08:57,243] Trial 20 finished with value: 0.03828085957021489 and parameters: {'EDIM': 32, 'BATCH_SIZE': 10000, 'LR': 0.6024121447421084, 'EPOCH': 25, 'NUM_NEGATIVES': 25, 'OPTIMIZER_NAME': 'Adam'}. Best is trial 13 with value: 0.049775112443778115.\n",
      "[I 2024-05-26 22:09:28,795] Trial 21 finished with value: 0.048575712143928036 and parameters: {'EDIM': 64, 'BATCH_SIZE': 20000, 'LR': 0.98926875833803, 'EPOCH': 15, 'NUM_NEGATIVES': 15, 'OPTIMIZER_NAME': 'Adagrad'}. Best is trial 13 with value: 0.049775112443778115.\n",
      "[I 2024-05-26 22:10:11,167] Trial 22 finished with value: 0.04802598700649675 and parameters: {'EDIM': 128, 'BATCH_SIZE': 20000, 'LR': 0.984402701589372, 'EPOCH': 15, 'NUM_NEGATIVES': 20, 'OPTIMIZER_NAME': 'Adagrad'}. Best is trial 13 with value: 0.049775112443778115.\n",
      "[I 2024-05-26 22:10:41,281] Trial 23 finished with value: 0.04847576211894054 and parameters: {'EDIM': 32, 'BATCH_SIZE': 20000, 'LR': 0.9108514116152121, 'EPOCH': 20, 'NUM_NEGATIVES': 10, 'OPTIMIZER_NAME': 'Adagrad'}. Best is trial 13 with value: 0.049775112443778115.\n",
      "[I 2024-05-26 22:11:02,979] Trial 24 finished with value: 0.04817591204397801 and parameters: {'EDIM': 64, 'BATCH_SIZE': 20000, 'LR': 0.7583682486112457, 'EPOCH': 10, 'NUM_NEGATIVES': 15, 'OPTIMIZER_NAME': 'Adagrad'}. Best is trial 13 with value: 0.049775112443778115.\n",
      "[I 2024-05-26 22:11:57,842] Trial 25 finished with value: 0.001199400299850075 and parameters: {'EDIM': 128, 'BATCH_SIZE': 20000, 'LR': 0.8780073758567901, 'EPOCH': 20, 'NUM_NEGATIVES': 20, 'OPTIMIZER_NAME': 'SGD'}. Best is trial 13 with value: 0.049775112443778115.\n",
      "[I 2024-05-26 22:12:26,837] Trial 26 finished with value: 0.04702648675662169 and parameters: {'EDIM': 32, 'BATCH_SIZE': 20000, 'LR': 0.9750860498862501, 'EPOCH': 15, 'NUM_NEGATIVES': 15, 'OPTIMIZER_NAME': 'Adagrad'}. Best is trial 13 with value: 0.049775112443778115.\n",
      "[I 2024-05-26 22:13:24,842] Trial 27 finished with value: 0.04822588705647176 and parameters: {'EDIM': 256, 'BATCH_SIZE': 20000, 'LR': 0.6321519828469575, 'EPOCH': 15, 'NUM_NEGATIVES': 25, 'OPTIMIZER_NAME': 'Adagrad'}. Best is trial 13 with value: 0.049775112443778115.\n",
      "[I 2024-05-26 22:14:10,710] Trial 28 finished with value: 0.04917541229385307 and parameters: {'EDIM': 128, 'BATCH_SIZE': 10000, 'LR': 0.21982392599728773, 'EPOCH': 20, 'NUM_NEGATIVES': 10, 'OPTIMIZER_NAME': 'Adagrad'}. Best is trial 13 with value: 0.049775112443778115.\n",
      "[I 2024-05-26 22:14:51,797] Trial 29 finished with value: 0.03768115942028986 and parameters: {'EDIM': 32, 'BATCH_SIZE': 50000, 'LR': 0.41990541383417257, 'EPOCH': 10, 'NUM_NEGATIVES': 20, 'OPTIMIZER_NAME': 'RMSprop'}. Best is trial 13 with value: 0.049775112443778115.\n"
     ]
    }
   ],
   "source": [
    "import optuna\n",
    "\n",
    "model_name = 'LatentFactorModel'\n",
    "\n",
    "\n",
    "def objective(trial):\n",
    "    # фиксируем сиды\n",
    "    seedEverything()\n",
    "    \n",
    "    # параметры\n",
    "    EDIM = trial.suggest_categorical('EDIM', [32, 64, 128, 256])\n",
    "    BATCH_SIZE = trial.suggest_categorical('BATCH_SIZE', [2_000, 5_000, 10_000, 20_000, 25_000, 50_000])\n",
    "    LR = trial.suggest_float('LR', 1e-3, 1, log=False)\n",
    "    EPOCH = trial.suggest_int('EPOCH', 10, 30, step=5, log=False)\n",
    "    NUM_NEGATIVES = trial.suggest_int('NUM_NEGATIVES', 5, 30, step=5, log=False)\n",
    "    OPTIMIZER_NAME = trial.suggest_categorical('OPTIMIZER_NAME', ['Adam', 'SGD', 'RMSprop', 'Adagrad', 'Adamax'])\n",
    "    \n",
    "    \n",
    "    train_dataset = RecDataset(df_train['user_index'].values,\n",
    "                               df_train['node_index'],\n",
    "                               user2seen)\n",
    "    \n",
    "    dataloader = DataLoader(train_dataset,\n",
    "                            shuffle=True,\n",
    "                            num_workers=0,\n",
    "                            batch_size=BATCH_SIZE,\n",
    "                            collate_fn=lambda x: collate_fn(x, NUM_NEGATIVES, max(df['node_index'].values)))\n",
    "\n",
    "\n",
    "    model = LatentFactorModel(EDIM, user_indes, node_indes)\n",
    "    \n",
    "    if OPTIMIZER_NAME == 'Adam':\n",
    "        optimizer = torch.optim.Adam(model.parameters(), LR)\n",
    "    elif OPTIMIZER_NAME == 'SGD':\n",
    "        optimizer = torch.optim.SGD(model.parameters(), LR)\n",
    "    elif OPTIMIZER_NAME == 'RMSprop':\n",
    "        optimizer = torch.optim.RMSprop(model.parameters(), LR)\n",
    "    elif OPTIMIZER_NAME == 'Adagrad':\n",
    "        optimizer = torch.optim.Adagrad(model.parameters(), LR)\n",
    "    elif OPTIMIZER_NAME == 'Adamax':\n",
    "        optimizer = torch.optim.Adamax(model.parameters(), LR)\n",
    "        \n",
    "    # обучение\n",
    "    for i in range(EPOCH):\n",
    "        losses = []\n",
    "        for i in dataloader:\n",
    "            users, items, labels = i\n",
    "            optimizer.zero_grad()\n",
    "            logits = model(users, items)\n",
    "            loss = torch.nn.functional.binary_cross_entropy_with_logits(\n",
    "                logits, labels\n",
    "            )\n",
    "            loss.backward()\n",
    "            optimizer.step()\n",
    "            losses.append(loss.item())\n",
    "            \n",
    "    # тест\n",
    "    K = 100\n",
    "    test_users = df_test['user_index'].unique()\n",
    "\n",
    "\n",
    "    preds = model.pred_top_k(torch.tensor(test_users), K)[1].numpy()\n",
    "    df_preds = pd.DataFrame({'node_index': list(preds),\n",
    "                             'user_index': test_users,\n",
    "                             'rank': [[j for j in range(0, K)]for i in range(len(preds))]})\n",
    "\n",
    "    df_preds = df_preds.explode(['node_index', 'rank']).merge(\n",
    "        df_test[['user_index', 'node_index']].assign(relevant=1).drop_duplicates(),\n",
    "        on = ['user_index', 'node_index'],\n",
    "        how='left' ,\n",
    "    )\n",
    "    df_preds['relevant'] = df_preds['relevant'].fillna(0)\n",
    "    \n",
    "    hitrate = calc_hitrate(df_preds, K)\n",
    "    prec = calc_prec(df_preds, 30)\n",
    "    \n",
    "    # логируем в mlflow\n",
    "    run_name = f'{model_name}_{trial.number}'\n",
    "    \n",
    "    with mlflow.start_run(run_name=run_name):\n",
    "        mlflow.log_metrics(\n",
    "            {\n",
    "                'hitrate': hitrate, \n",
    "                'prec_30': prec,\n",
    "            }\n",
    "        )\n",
    "        mlflow.log_params(\n",
    "            {\n",
    "            'model_name': model_name,\n",
    "            'edim': EDIM,\n",
    "            'batch_size': BATCH_SIZE,\n",
    "            'lr': LR,\n",
    "            'epoch': EPOCH,\n",
    "            'num_negatives': NUM_NEGATIVES,\n",
    "            'optimizer_name': OPTIMIZER_NAME,\n",
    "            }\n",
    "        )\n",
    "        \n",
    "    # оптимизируем по precision@30\n",
    "    return prec\n",
    "\n",
    "\n",
    "sampler = optuna.samplers.TPESampler(seed=DEFAULT_RANDOM_SEED)\n",
    "\n",
    "study = optuna.create_study(study_name='LFM_tuning', direction='maximize', sampler=sampler)\n",
    "study.optimize(objective, n_trials=30)"
   ]
  },
  {
   "cell_type": "code",
   "execution_count": 172,
   "id": "e9c2ca91-b847-47ab-bf83-b9a983925c4a",
   "metadata": {
    "tags": []
   },
   "outputs": [
    {
     "data": {
      "text/html": [
       "<div>\n",
       "<style scoped>\n",
       "    .dataframe tbody tr th:only-of-type {\n",
       "        vertical-align: middle;\n",
       "    }\n",
       "\n",
       "    .dataframe tbody tr th {\n",
       "        vertical-align: top;\n",
       "    }\n",
       "\n",
       "    .dataframe thead th {\n",
       "        text-align: right;\n",
       "    }\n",
       "</style>\n",
       "<table border=\"1\" class=\"dataframe\">\n",
       "  <thead>\n",
       "    <tr style=\"text-align: right;\">\n",
       "      <th></th>\n",
       "      <th>number</th>\n",
       "      <th>value</th>\n",
       "      <th>params_BATCH_SIZE</th>\n",
       "      <th>params_EDIM</th>\n",
       "      <th>params_EPOCH</th>\n",
       "      <th>params_LR</th>\n",
       "      <th>params_NUM_NEGATIVES</th>\n",
       "      <th>params_OPTIMIZER_NAME</th>\n",
       "    </tr>\n",
       "  </thead>\n",
       "  <tbody>\n",
       "    <tr>\n",
       "      <th>13</th>\n",
       "      <td>13</td>\n",
       "      <td>0.049775</td>\n",
       "      <td>20000</td>\n",
       "      <td>64</td>\n",
       "      <td>15</td>\n",
       "      <td>0.505301</td>\n",
       "      <td>15</td>\n",
       "      <td>Adagrad</td>\n",
       "    </tr>\n",
       "    <tr>\n",
       "      <th>17</th>\n",
       "      <td>17</td>\n",
       "      <td>0.049425</td>\n",
       "      <td>20000</td>\n",
       "      <td>32</td>\n",
       "      <td>20</td>\n",
       "      <td>0.968934</td>\n",
       "      <td>20</td>\n",
       "      <td>Adagrad</td>\n",
       "    </tr>\n",
       "    <tr>\n",
       "      <th>14</th>\n",
       "      <td>14</td>\n",
       "      <td>0.049225</td>\n",
       "      <td>20000</td>\n",
       "      <td>128</td>\n",
       "      <td>15</td>\n",
       "      <td>0.996651</td>\n",
       "      <td>15</td>\n",
       "      <td>Adagrad</td>\n",
       "    </tr>\n",
       "    <tr>\n",
       "      <th>28</th>\n",
       "      <td>28</td>\n",
       "      <td>0.049175</td>\n",
       "      <td>10000</td>\n",
       "      <td>128</td>\n",
       "      <td>20</td>\n",
       "      <td>0.219824</td>\n",
       "      <td>10</td>\n",
       "      <td>Adagrad</td>\n",
       "    </tr>\n",
       "    <tr>\n",
       "      <th>7</th>\n",
       "      <td>7</td>\n",
       "      <td>0.048976</td>\n",
       "      <td>25000</td>\n",
       "      <td>128</td>\n",
       "      <td>15</td>\n",
       "      <td>0.428919</td>\n",
       "      <td>15</td>\n",
       "      <td>Adagrad</td>\n",
       "    </tr>\n",
       "    <tr>\n",
       "      <th>5</th>\n",
       "      <td>5</td>\n",
       "      <td>0.048926</td>\n",
       "      <td>5000</td>\n",
       "      <td>64</td>\n",
       "      <td>25</td>\n",
       "      <td>0.513615</td>\n",
       "      <td>5</td>\n",
       "      <td>Adagrad</td>\n",
       "    </tr>\n",
       "    <tr>\n",
       "      <th>21</th>\n",
       "      <td>21</td>\n",
       "      <td>0.048576</td>\n",
       "      <td>20000</td>\n",
       "      <td>64</td>\n",
       "      <td>15</td>\n",
       "      <td>0.989269</td>\n",
       "      <td>15</td>\n",
       "      <td>Adagrad</td>\n",
       "    </tr>\n",
       "    <tr>\n",
       "      <th>23</th>\n",
       "      <td>23</td>\n",
       "      <td>0.048476</td>\n",
       "      <td>20000</td>\n",
       "      <td>32</td>\n",
       "      <td>20</td>\n",
       "      <td>0.910851</td>\n",
       "      <td>10</td>\n",
       "      <td>Adagrad</td>\n",
       "    </tr>\n",
       "    <tr>\n",
       "      <th>15</th>\n",
       "      <td>15</td>\n",
       "      <td>0.048326</td>\n",
       "      <td>20000</td>\n",
       "      <td>64</td>\n",
       "      <td>15</td>\n",
       "      <td>0.921498</td>\n",
       "      <td>15</td>\n",
       "      <td>Adagrad</td>\n",
       "    </tr>\n",
       "    <tr>\n",
       "      <th>27</th>\n",
       "      <td>27</td>\n",
       "      <td>0.048226</td>\n",
       "      <td>20000</td>\n",
       "      <td>256</td>\n",
       "      <td>15</td>\n",
       "      <td>0.632152</td>\n",
       "      <td>25</td>\n",
       "      <td>Adagrad</td>\n",
       "    </tr>\n",
       "  </tbody>\n",
       "</table>\n",
       "</div>"
      ],
      "text/plain": [
       "    number     value  params_BATCH_SIZE  params_EDIM  params_EPOCH  params_LR  \\\n",
       "13      13  0.049775              20000           64            15   0.505301   \n",
       "17      17  0.049425              20000           32            20   0.968934   \n",
       "14      14  0.049225              20000          128            15   0.996651   \n",
       "28      28  0.049175              10000          128            20   0.219824   \n",
       "7        7  0.048976              25000          128            15   0.428919   \n",
       "5        5  0.048926               5000           64            25   0.513615   \n",
       "21      21  0.048576              20000           64            15   0.989269   \n",
       "23      23  0.048476              20000           32            20   0.910851   \n",
       "15      15  0.048326              20000           64            15   0.921498   \n",
       "27      27  0.048226              20000          256            15   0.632152   \n",
       "\n",
       "    params_NUM_NEGATIVES params_OPTIMIZER_NAME  \n",
       "13                    15               Adagrad  \n",
       "17                    20               Adagrad  \n",
       "14                    15               Adagrad  \n",
       "28                    10               Adagrad  \n",
       "7                     15               Adagrad  \n",
       "5                      5               Adagrad  \n",
       "21                    15               Adagrad  \n",
       "23                    10               Adagrad  \n",
       "15                    15               Adagrad  \n",
       "27                    25               Adagrad  "
      ]
     },
     "execution_count": 172,
     "metadata": {},
     "output_type": "execute_result"
    }
   ],
   "source": [
    "results = study.trials_dataframe()\n",
    "\n",
    "# посмотрим топ-10 триалов\n",
    "sorted_results = results.sort_values(by='value', ascending=False)[results.columns[[0, 1, 5, 6, 7, 8, 9, 10]]]\n",
    "sorted_results.head(10)"
   ]
  },
  {
   "cell_type": "markdown",
   "id": "2520a34e-7725-4af4-badd-1a09d031edc1",
   "metadata": {},
   "source": [
    "### Лучшая LFM модель\n",
    "3. На основе имеющихся данных собрать лучшую модель (по precision@30) и рассчитать ее метрики (4 бала)"
   ]
  },
  {
   "cell_type": "code",
   "execution_count": 174,
   "id": "85c27615-027c-4da9-8593-abb7d98f28e0",
   "metadata": {
    "tags": []
   },
   "outputs": [
    {
     "name": "stdout",
     "output_type": "stream",
     "text": [
      "Best LatentFactorModel params: {'EDIM': 64, 'BATCH_SIZE': 20000, 'LR': 0.5053005226688491, 'EPOCH': 15, 'NUM_NEGATIVES': 15, 'OPTIMIZER_NAME': 'Adagrad'}\n",
      "\t precision@30: 0.049775112443778115\n",
      "\t hitrate@100: 0.823088455772114\n"
     ]
    }
   ],
   "source": [
    "best_lfm_params = study.best_trial.params\n",
    "\n",
    "seedEverything()\n",
    "\n",
    "train_dataset = RecDataset(df_train['user_index'].values,\n",
    "                           df_train['node_index'],\n",
    "                           user2seen)\n",
    "    \n",
    "dataloader = DataLoader(train_dataset,\n",
    "                        shuffle=True,\n",
    "                        num_workers=0,\n",
    "                        batch_size=best_lfm_params['BATCH_SIZE'],\n",
    "                        collate_fn=lambda x: collate_fn(x, best_lfm_params['NUM_NEGATIVES'], max(df['node_index'].values)))\n",
    "\n",
    "\n",
    "best_lfm_model = LatentFactorModel(best_lfm_params['EDIM'], user_indes, node_indes)\n",
    "\n",
    "OPTIMIZER_NAME = best_lfm_params['OPTIMIZER_NAME']\n",
    "LR = best_lfm_params['LR']\n",
    "\n",
    "if OPTIMIZER_NAME == 'Adam':\n",
    "    optimizer = torch.optim.Adam(best_lfm_model.parameters(), LR)\n",
    "elif OPTIMIZER_NAME == 'SGD':\n",
    "    optimizer = torch.optim.SGD(best_lfm_model.parameters(), LR)\n",
    "elif OPTIMIZER_NAME == 'RMSprop':\n",
    "    optimizer = torch.optim.RMSprop(best_lfm_model.parameters(), LR)\n",
    "elif OPTIMIZER_NAME == 'Adagrad':\n",
    "    optimizer = torch.optim.Adagrad(best_lfm_model.parameters(), LR)\n",
    "elif OPTIMIZER_NAME == 'Adamax':\n",
    "    optimizer = torch.optim.Adamax(best_lfm_model.parameters(), LR)\n",
    "\n",
    "# обучение\n",
    "for i in range(best_lfm_params['EPOCH']):\n",
    "    losses = []\n",
    "    for i in dataloader:\n",
    "        users, items, labels = i\n",
    "        optimizer.zero_grad()\n",
    "        logits = best_lfm_model(users, items)\n",
    "        loss = torch.nn.functional.binary_cross_entropy_with_logits(\n",
    "            logits, labels\n",
    "        )\n",
    "        loss.backward()\n",
    "        optimizer.step()\n",
    "        losses.append(loss.item())\n",
    "\n",
    "# тест\n",
    "K = 100\n",
    "test_users = df_test['user_index'].unique()\n",
    "\n",
    "\n",
    "preds = best_lfm_model.pred_top_k(torch.tensor(test_users), K)[1].numpy()\n",
    "df_preds = pd.DataFrame({'node_index': list(preds),\n",
    "                         'user_index': test_users,\n",
    "                         'rank': [[j for j in range(0, K)]for i in range(len(preds))]})\n",
    "\n",
    "df_preds = df_preds.explode(['node_index', 'rank']).merge(\n",
    "    df_test[['user_index', 'node_index']].assign(relevant=1).drop_duplicates(),\n",
    "    on = ['user_index', 'node_index'],\n",
    "    how='left' ,\n",
    ")\n",
    "df_preds['relevant'] = df_preds['relevant'].fillna(0)\n",
    "\n",
    "hitrate = calc_hitrate(df_preds, K)\n",
    "prec = calc_prec(df_preds, 30)\n",
    "\n",
    "# чекаем воспроизводимость\n",
    "assert prec == study.best_trial.values[0], \"model best quality differs from optuna\"\n",
    "\n",
    "print(f\"Best {model_name} params: {best_lfm_params}\",\n",
    "      f\"\\t precision@30: {prec}\",\n",
    "      f\"\\t hitrate@100: {hitrate}\", sep='\\n')"
   ]
  },
  {
   "cell_type": "markdown",
   "id": "b054ebcb-8684-4c73-bb60-2d0eb05efd7c",
   "metadata": {},
   "source": [
    "## Другие модели\n",
    "\n",
    "4. Попробовать другие модели (например  als - https://benfred.github.io/implicit/ , gru4rec, sasrec  ) - за sasrec на хорошем уровне сразу **10 балов**. За другие модели по **3 бала**"
   ]
  },
  {
   "cell_type": "code",
   "execution_count": 178,
   "id": "e0c38ccf-2e7a-4a33-ab07-fda9e8c8d489",
   "metadata": {
    "tags": []
   },
   "outputs": [
    {
     "name": "stdout",
     "output_type": "stream",
     "text": [
      "Collecting implicit\n",
      "  Downloading implicit-0.7.2-cp311-cp311-macosx_11_0_arm64.whl.metadata (6.1 kB)\n",
      "Requirement already satisfied: numpy>=1.17.0 in /opt/anaconda3/lib/python3.11/site-packages (from implicit) (1.26.4)\n",
      "Requirement already satisfied: scipy>=0.16 in /opt/anaconda3/lib/python3.11/site-packages (from implicit) (1.11.4)\n",
      "Requirement already satisfied: tqdm>=4.27 in /opt/anaconda3/lib/python3.11/site-packages (from implicit) (4.66.4)\n",
      "Requirement already satisfied: threadpoolctl in /opt/anaconda3/lib/python3.11/site-packages (from implicit) (2.2.0)\n",
      "Downloading implicit-0.7.2-cp311-cp311-macosx_11_0_arm64.whl (761 kB)\n",
      "\u001b[2K   \u001b[90m━━━━━━━━━━━━━━━━━━━━━━━━━━━━━━━━━━━━━━━━\u001b[0m \u001b[32m761.6/761.6 kB\u001b[0m \u001b[31m4.9 MB/s\u001b[0m eta \u001b[36m0:00:00\u001b[0ma \u001b[36m0:00:01\u001b[0m\n",
      "\u001b[?25hInstalling collected packages: implicit\n",
      "Successfully installed implicit-0.7.2\n"
     ]
    }
   ],
   "source": [
    "!pip install implicit"
   ]
  },
  {
   "cell_type": "markdown",
   "id": "7a39736c-26d7-487f-9fa4-05f9f81738ae",
   "metadata": {},
   "source": [
    "### ALS\n",
    "\n",
    "#### Дефолтная модель"
   ]
  },
  {
   "cell_type": "code",
   "execution_count": 416,
   "id": "11901c57-1613-4d2a-a228-4f2962547cec",
   "metadata": {
    "tags": []
   },
   "outputs": [
    {
     "data": {
      "text/plain": [
       "(<1664x2176 sparse matrix of type '<class 'numpy.float64'>'\n",
       " \twith 96611 stored elements in COOrdinate format>,\n",
       " <1664x2176 sparse matrix of type '<class 'numpy.float64'>'\n",
       " \twith 26181 stored elements in Compressed Sparse Row format>)"
      ]
     },
     "execution_count": 416,
     "metadata": {},
     "output_type": "execute_result"
    }
   ],
   "source": [
    "import implicit\n",
    "from scipy.sparse import coo_matrix\n",
    "\n",
    "USERS = df['user_index'].unique().tolist()\n",
    "ITEMS = df['node_index'].unique().tolist()\n",
    "\n",
    "rows = df_train['user_index'].values\n",
    "cols = df_train['node_index'].values\n",
    "als_train_data = np.ones(df_train.shape[0])\n",
    "\n",
    "coo_train = coo_matrix((als_train_data, (rows, cols)), shape=(len(USERS), len(ITEMS)))\n",
    "csr_train = coo_train.tocsr()\n",
    "\n",
    "coo_train, csr_train"
   ]
  },
  {
   "cell_type": "code",
   "execution_count": 418,
   "id": "5686fe3c-a8c1-44e3-bad1-54f3cf0528a1",
   "metadata": {
    "tags": []
   },
   "outputs": [
    {
     "data": {
      "application/vnd.jupyter.widget-view+json": {
       "model_id": "aa183568535c4ae0b3a16c55d98bed23",
       "version_major": 2,
       "version_minor": 0
      },
      "text/plain": [
       "  0%|          | 0/15 [00:00<?, ?it/s]"
      ]
     },
     "metadata": {},
     "output_type": "display_data"
    },
    {
     "name": "stdout",
     "output_type": "stream",
     "text": [
      "CPU times: user 5.92 s, sys: 137 ms, total: 6.06 s\n",
      "Wall time: 926 ms\n"
     ]
    }
   ],
   "source": [
    "%%time\n",
    "als_model = implicit.als.AlternatingLeastSquares(random_state=DEFAULT_RANDOM_SEED)\n",
    "als_model.fit(csr_train)"
   ]
  },
  {
   "cell_type": "code",
   "execution_count": 420,
   "id": "a82ee03d-d8cc-4135-b112-28972bf49f8d",
   "metadata": {
    "tags": []
   },
   "outputs": [
    {
     "data": {
      "text/html": [
       "<div>\n",
       "<style scoped>\n",
       "    .dataframe tbody tr th:only-of-type {\n",
       "        vertical-align: middle;\n",
       "    }\n",
       "\n",
       "    .dataframe tbody tr th {\n",
       "        vertical-align: top;\n",
       "    }\n",
       "\n",
       "    .dataframe thead th {\n",
       "        text-align: right;\n",
       "    }\n",
       "</style>\n",
       "<table border=\"1\" class=\"dataframe\">\n",
       "  <thead>\n",
       "    <tr style=\"text-align: right;\">\n",
       "      <th></th>\n",
       "      <th>node_index</th>\n",
       "      <th>user_index</th>\n",
       "      <th>rank</th>\n",
       "      <th>relevant</th>\n",
       "    </tr>\n",
       "  </thead>\n",
       "  <tbody>\n",
       "    <tr>\n",
       "      <th>0</th>\n",
       "      <td>9</td>\n",
       "      <td>1</td>\n",
       "      <td>0</td>\n",
       "      <td>0.0</td>\n",
       "    </tr>\n",
       "    <tr>\n",
       "      <th>1</th>\n",
       "      <td>4</td>\n",
       "      <td>1</td>\n",
       "      <td>1</td>\n",
       "      <td>0.0</td>\n",
       "    </tr>\n",
       "    <tr>\n",
       "      <th>2</th>\n",
       "      <td>7</td>\n",
       "      <td>1</td>\n",
       "      <td>2</td>\n",
       "      <td>0.0</td>\n",
       "    </tr>\n",
       "    <tr>\n",
       "      <th>3</th>\n",
       "      <td>11</td>\n",
       "      <td>1</td>\n",
       "      <td>3</td>\n",
       "      <td>1.0</td>\n",
       "    </tr>\n",
       "    <tr>\n",
       "      <th>4</th>\n",
       "      <td>15</td>\n",
       "      <td>1</td>\n",
       "      <td>4</td>\n",
       "      <td>0.0</td>\n",
       "    </tr>\n",
       "    <tr>\n",
       "      <th>...</th>\n",
       "      <td>...</td>\n",
       "      <td>...</td>\n",
       "      <td>...</td>\n",
       "      <td>...</td>\n",
       "    </tr>\n",
       "    <tr>\n",
       "      <th>66695</th>\n",
       "      <td>517</td>\n",
       "      <td>1658</td>\n",
       "      <td>95</td>\n",
       "      <td>0.0</td>\n",
       "    </tr>\n",
       "    <tr>\n",
       "      <th>66696</th>\n",
       "      <td>919</td>\n",
       "      <td>1658</td>\n",
       "      <td>96</td>\n",
       "      <td>0.0</td>\n",
       "    </tr>\n",
       "    <tr>\n",
       "      <th>66697</th>\n",
       "      <td>485</td>\n",
       "      <td>1658</td>\n",
       "      <td>97</td>\n",
       "      <td>0.0</td>\n",
       "    </tr>\n",
       "    <tr>\n",
       "      <th>66698</th>\n",
       "      <td>264</td>\n",
       "      <td>1658</td>\n",
       "      <td>98</td>\n",
       "      <td>0.0</td>\n",
       "    </tr>\n",
       "    <tr>\n",
       "      <th>66699</th>\n",
       "      <td>1023</td>\n",
       "      <td>1658</td>\n",
       "      <td>99</td>\n",
       "      <td>0.0</td>\n",
       "    </tr>\n",
       "  </tbody>\n",
       "</table>\n",
       "<p>66700 rows × 4 columns</p>\n",
       "</div>"
      ],
      "text/plain": [
       "      node_index  user_index rank  relevant\n",
       "0              9           1    0       0.0\n",
       "1              4           1    1       0.0\n",
       "2              7           1    2       0.0\n",
       "3             11           1    3       1.0\n",
       "4             15           1    4       0.0\n",
       "...          ...         ...  ...       ...\n",
       "66695        517        1658   95       0.0\n",
       "66696        919        1658   96       0.0\n",
       "66697        485        1658   97       0.0\n",
       "66698        264        1658   98       0.0\n",
       "66699       1023        1658   99       0.0\n",
       "\n",
       "[66700 rows x 4 columns]"
      ]
     },
     "execution_count": 420,
     "metadata": {},
     "output_type": "execute_result"
    }
   ],
   "source": [
    "ids, scores = als_model.recommend(test_users, csr_train[test_users], N=100, filter_already_liked_items=False)\n",
    "\n",
    "als_preds = pd.DataFrame({'node_index': list(ids),\n",
    "                      'user_index': test_users,\n",
    "                      'rank': [[j for j in range(0, K)]for i in range(len(ids))]})\n",
    "\n",
    "als_preds = als_preds.explode(['node_index', 'rank']).merge(\n",
    "            df_test[['user_index', 'node_index']].assign(relevant=1).drop_duplicates(),\n",
    "            on = ['user_index', 'node_index'],\n",
    "            how='left' ,\n",
    ")\n",
    "als_preds['relevant'] = als_preds['relevant'].fillna(0)\n",
    "als_preds"
   ]
  },
  {
   "cell_type": "code",
   "execution_count": 422,
   "id": "6a2f6507-e190-4689-b25b-294272ff9feb",
   "metadata": {
    "tags": []
   },
   "outputs": [
    {
     "data": {
      "text/plain": [
       "(0.7946026986506747, 0.04832583708145926)"
      ]
     },
     "execution_count": 422,
     "metadata": {},
     "output_type": "execute_result"
    }
   ],
   "source": [
    "als_hitrate = calc_hitrate(als_preds, 100)\n",
    "als_prec = calc_prec(als_preds, 30)\n",
    "\n",
    "als_hitrate, als_prec"
   ]
  },
  {
   "cell_type": "markdown",
   "id": "34316bca-8476-4fbe-8cd7-4b33909724c4",
   "metadata": {},
   "source": [
    "#### Перебор параметров\n",
    "\n",
    "- factors (int, optional) – The number of latent factors to compute\n",
    "- regularization (float, optional) – The regularization factor to use\n",
    "- alpha (float, optional) – The weight to give to positive examples.\n",
    "- iterations (int, optional) – The number of ALS iterations to use when fitting data"
   ]
  },
  {
   "cell_type": "code",
   "execution_count": 432,
   "id": "839a18ad-f86a-4a0b-a4b0-cc0aea2e373c",
   "metadata": {
    "tags": []
   },
   "outputs": [
    {
     "name": "stderr",
     "output_type": "stream",
     "text": [
      "[I 2024-05-26 23:47:36,989] A new study created in memory with name: ALS_tuning\n",
      "[I 2024-05-26 23:47:41,580] Trial 0 finished with value: 0.046876561719140425 and parameters: {'FACTORS': 370, 'REGULARIZATION': 0.29327794160087567, 'ALPHA': 4.175920349898844, 'ITERATIONS': 20}. Best is trial 0 with value: 0.046876561719140425.\n",
      "[I 2024-05-26 23:47:46,201] Trial 1 finished with value: 0.04707646176911544 and parameters: {'FACTORS': 380, 'REGULARIZATION': 0.42887539552321635, 'ALPHA': 14.730698777384617, 'ITERATIONS': 25}. Best is trial 1 with value: 0.04707646176911544.\n",
      "[I 2024-05-26 23:47:49,783] Trial 2 finished with value: 0.047176411794102945 and parameters: {'FACTORS': 270, 'REGULARIZATION': 0.398196343012209, 'ALPHA': 5.804492226112171, 'ITERATIONS': 25}. Best is trial 2 with value: 0.047176411794102945.\n",
      "[I 2024-05-26 23:47:52,929] Trial 3 finished with value: 0.04787606196901549 and parameters: {'FACTORS': 250, 'REGULARIZATION': 0.06908111764347266, 'ALPHA': 6.57261957462604, 'ITERATIONS': 25}. Best is trial 3 with value: 0.04787606196901549.\n",
      "[I 2024-05-26 23:47:54,647] Trial 4 finished with value: 0.04917541229385307 and parameters: {'FACTORS': 130, 'REGULARIZATION': 0.1836972385860176, 'ALPHA': 8.441719233785737, 'ITERATIONS': 20}. Best is trial 4 with value: 0.04917541229385307.\n",
      "[I 2024-05-26 23:47:58,824] Trial 5 finished with value: 0.04797601199400299 and parameters: {'FACTORS': 340, 'REGULARIZATION': 0.8509374761370117, 'ALPHA': 11.142374548048894, 'ITERATIONS': 25}. Best is trial 4 with value: 0.04917541229385307.\n",
      "[I 2024-05-26 23:48:01,869] Trial 6 finished with value: 0.04682658670664667 and parameters: {'FACTORS': 380, 'REGULARIZATION': 0.32972932471464644, 'ALPHA': 6.065041178712398, 'ITERATIONS': 15}. Best is trial 4 with value: 0.04917541229385307.\n",
      "[I 2024-05-26 23:48:04,071] Trial 7 finished with value: 0.04832583708145927 and parameters: {'FACTORS': 180, 'REGULARIZATION': 0.6346663626159429, 'ALPHA': 2.2894691592310528, 'ITERATIONS': 20}. Best is trial 4 with value: 0.04917541229385307.\n",
      "[I 2024-05-26 23:48:06,272] Trial 8 finished with value: 0.04867566216891554 and parameters: {'FACTORS': 240, 'REGULARIZATION': 0.49874824667380313, 'ALPHA': 6.961624064141592, 'ITERATIONS': 15}. Best is trial 4 with value: 0.04917541229385307.\n",
      "[I 2024-05-26 23:48:09,286] Trial 9 finished with value: 0.048575712143928036 and parameters: {'FACTORS': 240, 'REGULARIZATION': 0.8944552714859635, 'ALPHA': 14.218240254854315, 'ITERATIONS': 20}. Best is trial 4 with value: 0.04917541229385307.\n",
      "[I 2024-05-26 23:48:09,889] Trial 10 finished with value: 0.049525237381309345 and parameters: {'FACTORS': 80, 'REGULARIZATION': 0.02054746392373885, 'ALPHA': 9.35529178458511, 'ITERATIONS': 10}. Best is trial 10 with value: 0.049525237381309345.\n",
      "[I 2024-05-26 23:48:10,443] Trial 11 finished with value: 0.04847576211894052 and parameters: {'FACTORS': 50, 'REGULARIZATION': 0.016388840477631006, 'ALPHA': 10.04777981556118, 'ITERATIONS': 10}. Best is trial 10 with value: 0.049525237381309345.\n",
      "[I 2024-05-26 23:48:11,027] Trial 12 finished with value: 0.048925537231384306 and parameters: {'FACTORS': 60, 'REGULARIZATION': 0.17452148095266135, 'ALPHA': 9.578071036043987, 'ITERATIONS': 10}. Best is trial 10 with value: 0.049525237381309345.\n",
      "[I 2024-05-26 23:48:19,445] Trial 13 finished with value: 0.04627686156921539 and parameters: {'FACTORS': 490, 'REGULARIZATION': 0.21619014236330786, 'ALPHA': 12.345495559612727, 'ITERATIONS': 30}. Best is trial 10 with value: 0.049525237381309345.\n",
      "[I 2024-05-26 23:48:20,956] Trial 14 finished with value: 0.049425287356321845 and parameters: {'FACTORS': 130, 'REGULARIZATION': 0.1412793114109458, 'ALPHA': 8.866231247096787, 'ITERATIONS': 15}. Best is trial 10 with value: 0.049525237381309345.\n",
      "[I 2024-05-26 23:48:22,025] Trial 15 finished with value: 0.04912543728135932 and parameters: {'FACTORS': 130, 'REGULARIZATION': 0.6415662111791474, 'ALPHA': 8.243731944038752, 'ITERATIONS': 15}. Best is trial 10 with value: 0.049525237381309345.\n",
      "[I 2024-05-26 23:48:22,760] Trial 16 finished with value: 0.05032483758120939 and parameters: {'FACTORS': 120, 'REGULARIZATION': 0.012350238601124913, 'ALPHA': 12.39420666075479, 'ITERATIONS': 10}. Best is trial 16 with value: 0.05032483758120939.\n",
      "[I 2024-05-26 23:48:23,375] Trial 17 finished with value: 0.049925037481259364 and parameters: {'FACTORS': 90, 'REGULARIZATION': 0.01216458943987381, 'ALPHA': 11.826670046213092, 'ITERATIONS': 10}. Best is trial 16 with value: 0.05032483758120939.\n",
      "[I 2024-05-26 23:48:24,492] Trial 18 finished with value: 0.04912543728135932 and parameters: {'FACTORS': 190, 'REGULARIZATION': 0.6736434295479424, 'ALPHA': 12.420833957366705, 'ITERATIONS': 10}. Best is trial 16 with value: 0.05032483758120939.\n",
      "[I 2024-05-26 23:48:25,889] Trial 19 finished with value: 0.04972513743128435 and parameters: {'FACTORS': 180, 'REGULARIZATION': 0.28194020414860943, 'ALPHA': 13.066450952529093, 'ITERATIONS': 10}. Best is trial 16 with value: 0.05032483758120939.\n",
      "[I 2024-05-26 23:48:26,783] Trial 20 finished with value: 0.05007496251874063 and parameters: {'FACTORS': 100, 'REGULARIZATION': 0.10624570998500933, 'ALPHA': 10.47672443037991, 'ITERATIONS': 15}. Best is trial 16 with value: 0.05032483758120939.\n",
      "[I 2024-05-26 23:48:28,264] Trial 21 finished with value: 0.049825087456271865 and parameters: {'FACTORS': 110, 'REGULARIZATION': 0.0988781134776449, 'ALPHA': 11.262266802091364, 'ITERATIONS': 15}. Best is trial 16 with value: 0.05032483758120939.\n",
      "[I 2024-05-26 23:48:28,924] Trial 22 finished with value: 0.050474762618690654 and parameters: {'FACTORS': 90, 'REGULARIZATION': 0.01696469037727071, 'ALPHA': 11.047160266367834, 'ITERATIONS': 10}. Best is trial 22 with value: 0.050474762618690654.\n",
      "[I 2024-05-26 23:48:30,998] Trial 23 finished with value: 0.049525237381309345 and parameters: {'FACTORS': 160, 'REGULARIZATION': 0.0861441096469972, 'ALPHA': 13.53841948338679, 'ITERATIONS': 15}. Best is trial 22 with value: 0.050474762618690654.\n",
      "[I 2024-05-26 23:48:32,170] Trial 24 finished with value: 0.04907546226886557 and parameters: {'FACTORS': 210, 'REGULARIZATION': 0.2377690341086925, 'ALPHA': 10.590239775535805, 'ITERATIONS': 10}. Best is trial 22 with value: 0.050474762618690654.\n",
      "[I 2024-05-26 23:48:33,072] Trial 25 finished with value: 0.050024987506246864 and parameters: {'FACTORS': 90, 'REGULARIZATION': 0.12630206973166064, 'ALPHA': 10.499559145247206, 'ITERATIONS': 15}. Best is trial 22 with value: 0.050474762618690654.\n",
      "[I 2024-05-26 23:48:33,787] Trial 26 finished with value: 0.0473263368315842 and parameters: {'FACTORS': 50, 'REGULARIZATION': 0.37683931626699163, 'ALPHA': 13.160920629708238, 'ITERATIONS': 10}. Best is trial 22 with value: 0.050474762618690654.\n",
      "[I 2024-05-26 23:48:37,215] Trial 27 finished with value: 0.04887556221889055 and parameters: {'FACTORS': 310, 'REGULARIZATION': 0.9847855216754557, 'ALPHA': 1.0262228289709325, 'ITERATIONS': 15}. Best is trial 22 with value: 0.050474762618690654.\n",
      "[I 2024-05-26 23:48:38,299] Trial 28 finished with value: 0.049725137431284365 and parameters: {'FACTORS': 150, 'REGULARIZATION': 0.08751738947209274, 'ALPHA': 7.326605333411009, 'ITERATIONS': 10}. Best is trial 22 with value: 0.050474762618690654.\n",
      "[I 2024-05-26 23:48:41,831] Trial 29 finished with value: 0.04672663668165917 and parameters: {'FACTORS': 440, 'REGULARIZATION': 0.3097337861964445, 'ALPHA': 11.571630368802072, 'ITERATIONS': 15}. Best is trial 22 with value: 0.050474762618690654.\n"
     ]
    }
   ],
   "source": [
    "model_name = 'ALS'\n",
    "\n",
    "\n",
    "def als_objective(trial):\n",
    "    # фиксируем сиды\n",
    "    seedEverything()\n",
    "    \n",
    "    # параметры\n",
    "    FACTORS = trial.suggest_int('FACTORS', 50, 500, step=10, log=False)\n",
    "    REGULARIZATION = trial.suggest_float('REGULARIZATION', 1e-2, 1, log=False)\n",
    "    ALPHA = trial.suggest_float('ALPHA', 1, 15, log=False)\n",
    "    ITERATIONS = trial.suggest_int('ITERATIONS', 10, 30, step=5, log=False)\n",
    "        \n",
    "    # обучение\n",
    "    als_model = implicit.als.AlternatingLeastSquares(random_state=DEFAULT_RANDOM_SEED,\n",
    "                                                     factors=FACTORS,\n",
    "                                                     regularization=REGULARIZATION,\n",
    "                                                     alpha=ALPHA,\n",
    "                                                     iterations=ITERATIONS)\n",
    "    als_model.fit(csr_train, show_progress=False)\n",
    "            \n",
    "    # тест\n",
    "    K = 100\n",
    "    test_users = df_test['user_index'].unique()\n",
    "\n",
    "\n",
    "    ids, scores = als_model.recommend(test_users,\n",
    "                                      csr_train[test_users],\n",
    "                                      N=100,\n",
    "                                      filter_already_liked_items=False)\n",
    "\n",
    "    als_preds = pd.DataFrame({'node_index': list(ids),\n",
    "                              'user_index': test_users,\n",
    "                              'rank': [[j for j in range(0, K)]for i in range(len(ids))]})\n",
    "\n",
    "    als_preds = als_preds.explode(['node_index', 'rank']).merge(\n",
    "                df_test[['user_index', 'node_index']].assign(relevant=1).drop_duplicates(),\n",
    "                on = ['user_index', 'node_index'],\n",
    "                how='left' ,\n",
    "    )\n",
    "    als_preds['relevant'] = als_preds['relevant'].fillna(0)\n",
    "    \n",
    "    hitrate = calc_hitrate(als_preds, K)\n",
    "    prec = calc_prec(als_preds, 30)\n",
    "    \n",
    "    # логируем в mlflow\n",
    "    run_name = f'{model_name}_{trial.number}'\n",
    "    \n",
    "    with mlflow.start_run(run_name=run_name):\n",
    "        mlflow.log_metrics(\n",
    "            {\n",
    "                'hitrate': hitrate, \n",
    "                'prec_30': prec,\n",
    "            }\n",
    "        )\n",
    "        mlflow.log_params(\n",
    "            {\n",
    "            'model_name': model_name,\n",
    "            'factors': FACTORS,\n",
    "            'regularization': REGULARIZATION,\n",
    "            'alpha': ALPHA,\n",
    "            'iterations': ITERATIONS\n",
    "            }\n",
    "        )\n",
    "        \n",
    "    # оптимизируем по precision@30\n",
    "    return prec\n",
    "\n",
    "\n",
    "sampler = optuna.samplers.TPESampler(seed=DEFAULT_RANDOM_SEED)\n",
    "\n",
    "als_study = optuna.create_study(study_name='ALS_tuning', direction='maximize', sampler=sampler)\n",
    "als_study.optimize(als_objective, n_trials=30)"
   ]
  },
  {
   "cell_type": "code",
   "execution_count": 434,
   "id": "66c669cf-8760-4932-ac02-d550b482b2f4",
   "metadata": {
    "tags": []
   },
   "outputs": [
    {
     "data": {
      "text/html": [
       "<div>\n",
       "<style scoped>\n",
       "    .dataframe tbody tr th:only-of-type {\n",
       "        vertical-align: middle;\n",
       "    }\n",
       "\n",
       "    .dataframe tbody tr th {\n",
       "        vertical-align: top;\n",
       "    }\n",
       "\n",
       "    .dataframe thead th {\n",
       "        text-align: right;\n",
       "    }\n",
       "</style>\n",
       "<table border=\"1\" class=\"dataframe\">\n",
       "  <thead>\n",
       "    <tr style=\"text-align: right;\">\n",
       "      <th></th>\n",
       "      <th>number</th>\n",
       "      <th>value</th>\n",
       "      <th>params_ALPHA</th>\n",
       "      <th>params_FACTORS</th>\n",
       "      <th>params_ITERATIONS</th>\n",
       "      <th>params_REGULARIZATION</th>\n",
       "    </tr>\n",
       "  </thead>\n",
       "  <tbody>\n",
       "    <tr>\n",
       "      <th>22</th>\n",
       "      <td>22</td>\n",
       "      <td>0.050475</td>\n",
       "      <td>11.047160</td>\n",
       "      <td>90</td>\n",
       "      <td>10</td>\n",
       "      <td>0.016965</td>\n",
       "    </tr>\n",
       "    <tr>\n",
       "      <th>16</th>\n",
       "      <td>16</td>\n",
       "      <td>0.050325</td>\n",
       "      <td>12.394207</td>\n",
       "      <td>120</td>\n",
       "      <td>10</td>\n",
       "      <td>0.012350</td>\n",
       "    </tr>\n",
       "    <tr>\n",
       "      <th>20</th>\n",
       "      <td>20</td>\n",
       "      <td>0.050075</td>\n",
       "      <td>10.476724</td>\n",
       "      <td>100</td>\n",
       "      <td>15</td>\n",
       "      <td>0.106246</td>\n",
       "    </tr>\n",
       "    <tr>\n",
       "      <th>25</th>\n",
       "      <td>25</td>\n",
       "      <td>0.050025</td>\n",
       "      <td>10.499559</td>\n",
       "      <td>90</td>\n",
       "      <td>15</td>\n",
       "      <td>0.126302</td>\n",
       "    </tr>\n",
       "    <tr>\n",
       "      <th>17</th>\n",
       "      <td>17</td>\n",
       "      <td>0.049925</td>\n",
       "      <td>11.826670</td>\n",
       "      <td>90</td>\n",
       "      <td>10</td>\n",
       "      <td>0.012165</td>\n",
       "    </tr>\n",
       "    <tr>\n",
       "      <th>21</th>\n",
       "      <td>21</td>\n",
       "      <td>0.049825</td>\n",
       "      <td>11.262267</td>\n",
       "      <td>110</td>\n",
       "      <td>15</td>\n",
       "      <td>0.098878</td>\n",
       "    </tr>\n",
       "    <tr>\n",
       "      <th>28</th>\n",
       "      <td>28</td>\n",
       "      <td>0.049725</td>\n",
       "      <td>7.326605</td>\n",
       "      <td>150</td>\n",
       "      <td>10</td>\n",
       "      <td>0.087517</td>\n",
       "    </tr>\n",
       "    <tr>\n",
       "      <th>19</th>\n",
       "      <td>19</td>\n",
       "      <td>0.049725</td>\n",
       "      <td>13.066451</td>\n",
       "      <td>180</td>\n",
       "      <td>10</td>\n",
       "      <td>0.281940</td>\n",
       "    </tr>\n",
       "    <tr>\n",
       "      <th>23</th>\n",
       "      <td>23</td>\n",
       "      <td>0.049525</td>\n",
       "      <td>13.538419</td>\n",
       "      <td>160</td>\n",
       "      <td>15</td>\n",
       "      <td>0.086144</td>\n",
       "    </tr>\n",
       "    <tr>\n",
       "      <th>10</th>\n",
       "      <td>10</td>\n",
       "      <td>0.049525</td>\n",
       "      <td>9.355292</td>\n",
       "      <td>80</td>\n",
       "      <td>10</td>\n",
       "      <td>0.020547</td>\n",
       "    </tr>\n",
       "  </tbody>\n",
       "</table>\n",
       "</div>"
      ],
      "text/plain": [
       "    number     value  params_ALPHA  params_FACTORS  params_ITERATIONS  \\\n",
       "22      22  0.050475     11.047160              90                 10   \n",
       "16      16  0.050325     12.394207             120                 10   \n",
       "20      20  0.050075     10.476724             100                 15   \n",
       "25      25  0.050025     10.499559              90                 15   \n",
       "17      17  0.049925     11.826670              90                 10   \n",
       "21      21  0.049825     11.262267             110                 15   \n",
       "28      28  0.049725      7.326605             150                 10   \n",
       "19      19  0.049725     13.066451             180                 10   \n",
       "23      23  0.049525     13.538419             160                 15   \n",
       "10      10  0.049525      9.355292              80                 10   \n",
       "\n",
       "    params_REGULARIZATION  \n",
       "22               0.016965  \n",
       "16               0.012350  \n",
       "20               0.106246  \n",
       "25               0.126302  \n",
       "17               0.012165  \n",
       "21               0.098878  \n",
       "28               0.087517  \n",
       "19               0.281940  \n",
       "23               0.086144  \n",
       "10               0.020547  "
      ]
     },
     "execution_count": 434,
     "metadata": {},
     "output_type": "execute_result"
    }
   ],
   "source": [
    "als_results = als_study.trials_dataframe()\n",
    "\n",
    "# посмотрим топ-10 триалов\n",
    "sorted_als_results = als_results.sort_values(by='value', ascending=False)[als_results.columns[[0, 1, 5, 6, 7, 8]]]\n",
    "sorted_als_results.head(10)"
   ]
  },
  {
   "cell_type": "markdown",
   "id": "3cf365e0-50c1-4e04-a9fb-00178d0dd46d",
   "metadata": {},
   "source": [
    "#### Лучшая ALS модель"
   ]
  },
  {
   "cell_type": "code",
   "execution_count": 480,
   "id": "dadc4cdd-3bde-4d6e-a473-d4764149c5ab",
   "metadata": {
    "tags": []
   },
   "outputs": [
    {
     "data": {
      "application/vnd.jupyter.widget-view+json": {
       "model_id": "af03c47c25804e2bb1b5abbedf2e37c0",
       "version_major": 2,
       "version_minor": 0
      },
      "text/plain": [
       "  0%|          | 0/10 [00:00<?, ?it/s]"
      ]
     },
     "metadata": {},
     "output_type": "display_data"
    },
    {
     "name": "stdout",
     "output_type": "stream",
     "text": [
      "Best ALS params: {'factors': 90, 'regularization': 0.01696469037727071, 'alpha': 11.047160266367834, 'iterations': 10}\n",
      "\t precision@30: 0.050474762618690654\n",
      "\t hitrate@100: 0.8245877061469266\n"
     ]
    }
   ],
   "source": [
    "best_als_params = als_study.best_trial.params\n",
    "best_als_params = {k.lower(): v for k, v in best_als_params.items()}\n",
    "\n",
    "seedEverything()\n",
    "\n",
    "# обучение\n",
    "best_als_model = implicit.als.AlternatingLeastSquares(**best_als_params,\n",
    "                                                      random_state=DEFAULT_RANDOM_SEED)\n",
    "best_als_model.fit(csr_train, show_progress=True)\n",
    "\n",
    "# тест\n",
    "K = 100\n",
    "test_users = df_test['user_index'].unique()\n",
    "\n",
    "\n",
    "ids, scores = best_als_model.recommend(test_users,\n",
    "                                       csr_train[test_users],\n",
    "                                       N=100,\n",
    "                                       filter_already_liked_items=False)\n",
    "\n",
    "als_preds = pd.DataFrame({'node_index': list(ids),\n",
    "                          'user_index': test_users,\n",
    "                          'rank': [[j for j in range(0, K)]for i in range(len(ids))]})\n",
    "\n",
    "als_preds = als_preds.explode(['node_index', 'rank']).merge(\n",
    "            df_test[['user_index', 'node_index']].assign(relevant=1).drop_duplicates(),\n",
    "            on = ['user_index', 'node_index'],\n",
    "            how='left' ,\n",
    ")\n",
    "als_preds['relevant'] = als_preds['relevant'].fillna(0)\n",
    "\n",
    "hitrate = calc_hitrate(als_preds, K)\n",
    "prec = calc_prec(als_preds, 30)\n",
    "\n",
    "# чекаем воспроизводимость\n",
    "assert prec == als_study.best_trial.values[0], \"model best quality differs from optuna\"\n",
    "\n",
    "print(f\"Best {model_name} params: {best_als_params}\",\n",
    "      f\"\\t precision@30: {prec}\",\n",
    "      f\"\\t hitrate@100: {hitrate}\", sep='\\n')"
   ]
  },
  {
   "cell_type": "code",
   "execution_count": null,
   "id": "6ccc359c-f200-4a23-85c6-2d44cb388ffe",
   "metadata": {},
   "outputs": [],
   "source": []
  },
  {
   "cell_type": "code",
   "execution_count": null,
   "id": "0c6ce1b9-4ca4-4bac-bb0f-ab8927d7155e",
   "metadata": {},
   "outputs": [],
   "source": []
  },
  {
   "cell_type": "code",
   "execution_count": null,
   "id": "0a5efb48-e83a-4134-98e7-5cc86d2083e3",
   "metadata": {},
   "outputs": [],
   "source": []
  },
  {
   "cell_type": "code",
   "execution_count": null,
   "id": "3161c4c7-4048-4941-b499-f7fe3fcdf1c3",
   "metadata": {},
   "outputs": [],
   "source": []
  },
  {
   "cell_type": "markdown",
   "id": "d266449e-19fd-4fa5-88c6-97f37c780c62",
   "metadata": {
    "tags": []
   },
   "source": [
    "### SASRec\n",
    "\n",
    "Не получилось норм качество("
   ]
  },
  {
   "cell_type": "code",
   "execution_count": 55,
   "id": "54b6b5f0-a075-4cd9-ad36-3da1148d302c",
   "metadata": {
    "tags": []
   },
   "outputs": [
    {
     "data": {
      "text/html": [
       "<div>\n",
       "<style scoped>\n",
       "    .dataframe tbody tr th:only-of-type {\n",
       "        vertical-align: middle;\n",
       "    }\n",
       "\n",
       "    .dataframe tbody tr th {\n",
       "        vertical-align: top;\n",
       "    }\n",
       "\n",
       "    .dataframe thead th {\n",
       "        text-align: right;\n",
       "    }\n",
       "</style>\n",
       "<table border=\"1\" class=\"dataframe\">\n",
       "  <thead>\n",
       "    <tr style=\"text-align: right;\">\n",
       "      <th></th>\n",
       "      <th>cookie_id</th>\n",
       "      <th>event_date</th>\n",
       "      <th>node_id</th>\n",
       "      <th>is_train</th>\n",
       "      <th>names</th>\n",
       "      <th>user_index</th>\n",
       "      <th>node_index</th>\n",
       "    </tr>\n",
       "  </thead>\n",
       "  <tbody>\n",
       "    <tr>\n",
       "      <th>0</th>\n",
       "      <td>15157399</td>\n",
       "      <td>2024-02-21 11:20:01</td>\n",
       "      <td>1047840</td>\n",
       "      <td>True</td>\n",
       "      <td>root -&gt; Транспорт -&gt; Запчасти и аксессуары -&gt; ...</td>\n",
       "      <td>0</td>\n",
       "      <td>0</td>\n",
       "    </tr>\n",
       "    <tr>\n",
       "      <th>1</th>\n",
       "      <td>15157399</td>\n",
       "      <td>2024-03-05 10:24:54</td>\n",
       "      <td>1047561</td>\n",
       "      <td>True</td>\n",
       "      <td>root -&gt; Услуги -&gt; Предложения услуг -&gt; Красота...</td>\n",
       "      <td>0</td>\n",
       "      <td>1</td>\n",
       "    </tr>\n",
       "    <tr>\n",
       "      <th>2</th>\n",
       "      <td>15157399</td>\n",
       "      <td>2024-03-05 10:28:55</td>\n",
       "      <td>1047561</td>\n",
       "      <td>True</td>\n",
       "      <td>root -&gt; Услуги -&gt; Предложения услуг -&gt; Красота...</td>\n",
       "      <td>0</td>\n",
       "      <td>1</td>\n",
       "    </tr>\n",
       "    <tr>\n",
       "      <th>3</th>\n",
       "      <td>15157399</td>\n",
       "      <td>2024-04-13 11:22:25</td>\n",
       "      <td>1047835</td>\n",
       "      <td>True</td>\n",
       "      <td>root -&gt; Транспорт -&gt; Запчасти и аксессуары -&gt; ...</td>\n",
       "      <td>0</td>\n",
       "      <td>2</td>\n",
       "    </tr>\n",
       "    <tr>\n",
       "      <th>4</th>\n",
       "      <td>15157399</td>\n",
       "      <td>2024-04-13 11:22:45</td>\n",
       "      <td>1047835</td>\n",
       "      <td>True</td>\n",
       "      <td>root -&gt; Транспорт -&gt; Запчасти и аксессуары -&gt; ...</td>\n",
       "      <td>0</td>\n",
       "      <td>2</td>\n",
       "    </tr>\n",
       "  </tbody>\n",
       "</table>\n",
       "</div>"
      ],
      "text/plain": [
       "   cookie_id          event_date  node_id  is_train  \\\n",
       "0   15157399 2024-02-21 11:20:01  1047840      True   \n",
       "1   15157399 2024-03-05 10:24:54  1047561      True   \n",
       "2   15157399 2024-03-05 10:28:55  1047561      True   \n",
       "3   15157399 2024-04-13 11:22:25  1047835      True   \n",
       "4   15157399 2024-04-13 11:22:45  1047835      True   \n",
       "\n",
       "                                               names  user_index  node_index  \n",
       "0  root -> Транспорт -> Запчасти и аксессуары -> ...           0           0  \n",
       "1  root -> Услуги -> Предложения услуг -> Красота...           0           1  \n",
       "2  root -> Услуги -> Предложения услуг -> Красота...           0           1  \n",
       "3  root -> Транспорт -> Запчасти и аксессуары -> ...           0           2  \n",
       "4  root -> Транспорт -> Запчасти и аксессуары -> ...           0           2  "
      ]
     },
     "execution_count": 55,
     "metadata": {},
     "output_type": "execute_result"
    }
   ],
   "source": [
    "# делаем последовательности взаимодействия с товарами для каждого юзера\n",
    "sorted_train = df_train.sort_values(by=['user_index', 'event_date'])\n",
    "sorted_test = df_test.sort_values(by=['user_index', 'event_date'])\n",
    "\n",
    "sorted_train.head()"
   ]
  },
  {
   "cell_type": "code",
   "execution_count": 57,
   "id": "b5f3386a-1a64-4102-a497-66842282bd9b",
   "metadata": {
    "tags": []
   },
   "outputs": [
    {
     "data": {
      "text/plain": [
       "[0, 1, 1, 2, 2, 2]"
      ]
     },
     "execution_count": 57,
     "metadata": {},
     "output_type": "execute_result"
    }
   ],
   "source": [
    "from collections import defaultdict\n",
    "\n",
    "train_seqs = defaultdict(list)\n",
    "for row in sorted_train.itertuples():\n",
    "    train_seqs[row.user_index].append(row.node_index)\n",
    "    \n",
    "train_seqs[0]"
   ]
  },
  {
   "cell_type": "code",
   "execution_count": 59,
   "id": "99a6e64d-868a-48d7-b1f1-1034e038bc14",
   "metadata": {
    "tags": []
   },
   "outputs": [
    {
     "data": {
      "text/plain": [
       "[56, 50, 50, 50, 50]"
      ]
     },
     "execution_count": 59,
     "metadata": {},
     "output_type": "execute_result"
    }
   ],
   "source": [
    "test_seqs = defaultdict(list)\n",
    "for row in sorted_test.itertuples():\n",
    "    test_seqs[row.user_index].append(row.node_index)\n",
    "    \n",
    "test_seqs[test_users[1]]"
   ]
  },
  {
   "cell_type": "code",
   "execution_count": 61,
   "id": "a9fa483f-c942-427a-bf39-830b91c2b45d",
   "metadata": {
    "tags": []
   },
   "outputs": [],
   "source": [
    "# ищем максимальную длину последовательности\n",
    "max_len = max(df_train.groupby('user_index')['node_index'].count().max(), df_test.groupby('user_index')['node_index'].count().max())\n",
    "\n",
    "# делаем паддинг до максимальной длины последовательности\n",
    "def pad_seqs(seqs, max_len=max_len):\n",
    "    padded_seqs = np.zeros((len(seqs), max_len), dtype=np.int32)\n",
    "    \n",
    "    for i, seq in enumerate(seqs):\n",
    "        if len(seq) < max_len:\n",
    "            padded_seqs[i, -len(seq):] = seq\n",
    "        else:\n",
    "            padded_seqs[i] = seq\n",
    "    return torch.tensor(padded_seqs)\n",
    "\n",
    "padded_train_seqs = pad_seqs(list(train_seqs.values()))\n",
    "padded_test_seqs = pad_seqs(list(test_seqs.values()))"
   ]
  },
  {
   "cell_type": "code",
   "execution_count": 63,
   "id": "244c7f0b-0836-4e07-8d07-22ab104e189a",
   "metadata": {
    "tags": []
   },
   "outputs": [],
   "source": [
    "# создаем датасет\n",
    "class SeqDataset(Dataset):\n",
    "    def __init__(self, users, seqs, is_train=True):\n",
    "        self.users = users\n",
    "        self.seqs = seqs\n",
    "        self.is_train = is_train\n",
    "\n",
    "    def __len__(self):\n",
    "        return len(self.seqs)\n",
    "\n",
    "    def __getitem__(self, idx):\n",
    "        user = self.users[idx]\n",
    "        seq = self.seqs[idx]\n",
    "        if self.is_train:\n",
    "            return user, seq[:-1], seq[1:]\n",
    "        else:\n",
    "            return user, seq[:-1]\n",
    "    \n",
    "train_dataset_sasrec = SeqDataset(list(train_seqs.keys()), padded_train_seqs)\n",
    "test_dataset_sasrec = SeqDataset(list(test_seqs.keys()), padded_test_seqs, is_train=False)"
   ]
  },
  {
   "cell_type": "code",
   "execution_count": 65,
   "id": "89cfcd24-0944-4e7c-a037-fe99c62829ee",
   "metadata": {
    "tags": []
   },
   "outputs": [],
   "source": [
    "# создаем даталоадеры\n",
    "BATCH_SIZE = 32\n",
    "\n",
    "\n",
    "train_loader_sasrec = DataLoader(train_dataset_sasrec, batch_size=BATCH_SIZE, shuffle=True)\n",
    "test_loader_sasrec = DataLoader(test_dataset_sasrec, batch_size=BATCH_SIZE, shuffle=False)"
   ]
  },
  {
   "cell_type": "code",
   "execution_count": 116,
   "id": "2571589f-2a43-4ae5-8000-e3927e295207",
   "metadata": {
    "tags": []
   },
   "outputs": [],
   "source": [
    "# создаем модель\n",
    "class SASRec(nn.Module):\n",
    "    def __init__(self,\n",
    "                 dim_emb: int,\n",
    "                 num_heads: int,\n",
    "                 num_layers: int,\n",
    "                 num_nodes: int,\n",
    "                 dropout: float,\n",
    "                 max_len: int=max_len):\n",
    "        \"\"\"\n",
    "        dim_emb: размерность эмбеддингов\n",
    "        num_heads: кол-во голов в multihead attention\n",
    "        num_layers: ко-во слоев трансформеров\n",
    "        num_nodes: кол-во уникальных нод\n",
    "        dropout: вероятность дропаута\n",
    "        max_len: максимальная длина последовательности\n",
    "        \"\"\"\n",
    "        super(SASRec, self).__init__()\n",
    "        \n",
    "        self.node_emb = nn.Embedding(num_nodes, dim_emb)\n",
    "        self.pos_emb = nn.Embedding(max_len, dim_emb)\n",
    "        \n",
    "        enc_layer = nn.TransformerEncoderLayer(d_model=dim_emb,\n",
    "                                               nhead=num_heads)\n",
    "        self.trasformer_enc = nn.TransformerEncoder(enc_layer, num_layers=num_layers)\n",
    "        \n",
    "        self.dropout = nn.Dropout(p=dropout)\n",
    "        \n",
    "        self.fc = nn.Linear(dim_emb, num_nodes)\n",
    "\n",
    "        \n",
    "    def forward(self, x):\n",
    "        seq_len = x.size(1)\n",
    "        \n",
    "        pos = torch.arange(seq_len, dtype=torch.long, device=x.device).unsqueeze(0).expand_as(x)\n",
    "        x = self.node_emb(x) + self.pos_emb(pos)\n",
    "        \n",
    "        self.hidden_states = self.trasformer_enc(x)\n",
    "        \n",
    "        x = self.dropout(self.hidden_states)\n",
    "        \n",
    "        logits = self.fc(x)\n",
    "        return logits\n",
    "    \n",
    "    def recommend(self, x):\n",
    "        self.forward(x)\n",
    "        last_hidden_state = self.hidden_states[:, -1, :]\n",
    "        \n",
    "        logits = self.fc(last_hidden_state)\n",
    "        return logits"
   ]
  },
  {
   "cell_type": "code",
   "execution_count": 120,
   "id": "e47b89a2-bea5-486a-b594-11f6bf236ef2",
   "metadata": {
    "tags": []
   },
   "outputs": [
    {
     "name": "stderr",
     "output_type": "stream",
     "text": [
      "/opt/anaconda3/lib/python3.11/site-packages/torch/nn/modules/transformer.py:306: UserWarning: enable_nested_tensor is True, but self.use_nested_tensor is False because encoder_layer.self_attn.batch_first was not True(use batch_first for better inference performance)\n",
      "  warnings.warn(f\"enable_nested_tensor is True, but self.use_nested_tensor is False because {why_not_sparsity_fast_path}\")\n"
     ]
    },
    {
     "data": {
      "application/vnd.jupyter.widget-view+json": {
       "model_id": "07c0fbe8cf3d4bf6bac10791ffadd05c",
       "version_major": 2,
       "version_minor": 0
      },
      "text/plain": [
       "  0%|          | 0/10 [00:00<?, ?it/s]"
      ]
     },
     "metadata": {},
     "output_type": "display_data"
    }
   ],
   "source": [
    "DIM_EMB = 52\n",
    "NUM_HEADS = 4\n",
    "NUM_LAYERS = 3\n",
    "NUM_NODES = df['node_index'].max() + 1\n",
    "DROPOUT = 0.3\n",
    "\n",
    "LR = 1e-3\n",
    "NUM_EPOCHS = 10\n",
    "\n",
    "seedEverything()\n",
    "\n",
    "sasrec_model = SASRec(DIM_EMB, NUM_HEADS, NUM_LAYERS, NUM_NODES, DROPOUT)\n",
    "\n",
    "criterion = nn.CrossEntropyLoss()\n",
    "optimizer = torch.optim.Adam(sasrec_model.parameters(), lr=LR)\n",
    "\n",
    "bar = tqdm(total = NUM_EPOCHS)"
   ]
  },
  {
   "cell_type": "code",
   "execution_count": 122,
   "id": "b730e751-2b8a-42f8-9af6-fd73690a93c5",
   "metadata": {
    "tags": []
   },
   "outputs": [
    {
     "data": {
      "application/vnd.jupyter.widget-view+json": {
       "model_id": "1574d7bb4b6e47ce8cc36bb375581333",
       "version_major": 2,
       "version_minor": 0
      },
      "text/plain": [
       "  0%|          | 0/52 [00:00<?, ?it/s]"
      ]
     },
     "metadata": {},
     "output_type": "display_data"
    },
    {
     "data": {
      "application/vnd.jupyter.widget-view+json": {
       "model_id": "8d15cf9c17a04ba593c542806ac43a38",
       "version_major": 2,
       "version_minor": 0
      },
      "text/plain": [
       "  0%|          | 0/52 [00:00<?, ?it/s]"
      ]
     },
     "metadata": {},
     "output_type": "display_data"
    },
    {
     "data": {
      "application/vnd.jupyter.widget-view+json": {
       "model_id": "542d8b90a33246d69f353ff17b2613b7",
       "version_major": 2,
       "version_minor": 0
      },
      "text/plain": [
       "  0%|          | 0/52 [00:00<?, ?it/s]"
      ]
     },
     "metadata": {},
     "output_type": "display_data"
    },
    {
     "data": {
      "application/vnd.jupyter.widget-view+json": {
       "model_id": "dfc4ae12d61f4f4d8e72f3d4eb9221fc",
       "version_major": 2,
       "version_minor": 0
      },
      "text/plain": [
       "  0%|          | 0/52 [00:00<?, ?it/s]"
      ]
     },
     "metadata": {},
     "output_type": "display_data"
    },
    {
     "data": {
      "application/vnd.jupyter.widget-view+json": {
       "model_id": "16c7b5ab64ea4bca80aad510c0fcc60e",
       "version_major": 2,
       "version_minor": 0
      },
      "text/plain": [
       "  0%|          | 0/52 [00:00<?, ?it/s]"
      ]
     },
     "metadata": {},
     "output_type": "display_data"
    },
    {
     "data": {
      "application/vnd.jupyter.widget-view+json": {
       "model_id": "12479093715e4d8aa6c2b241b002521c",
       "version_major": 2,
       "version_minor": 0
      },
      "text/plain": [
       "  0%|          | 0/52 [00:00<?, ?it/s]"
      ]
     },
     "metadata": {},
     "output_type": "display_data"
    },
    {
     "data": {
      "application/vnd.jupyter.widget-view+json": {
       "model_id": "fe463961460747d58211398a11607819",
       "version_major": 2,
       "version_minor": 0
      },
      "text/plain": [
       "  0%|          | 0/52 [00:00<?, ?it/s]"
      ]
     },
     "metadata": {},
     "output_type": "display_data"
    },
    {
     "data": {
      "application/vnd.jupyter.widget-view+json": {
       "model_id": "ebfca2995189419e8693018fd5d09cfd",
       "version_major": 2,
       "version_minor": 0
      },
      "text/plain": [
       "  0%|          | 0/52 [00:00<?, ?it/s]"
      ]
     },
     "metadata": {},
     "output_type": "display_data"
    },
    {
     "data": {
      "application/vnd.jupyter.widget-view+json": {
       "model_id": "fa91104225904bce9f4e1e490bf84330",
       "version_major": 2,
       "version_minor": 0
      },
      "text/plain": [
       "  0%|          | 0/52 [00:00<?, ?it/s]"
      ]
     },
     "metadata": {},
     "output_type": "display_data"
    },
    {
     "data": {
      "application/vnd.jupyter.widget-view+json": {
       "model_id": "871bd07bc0b74e1c8d0fd57d03e27c79",
       "version_major": 2,
       "version_minor": 0
      },
      "text/plain": [
       "  0%|          | 0/52 [00:00<?, ?it/s]"
      ]
     },
     "metadata": {},
     "output_type": "display_data"
    }
   ],
   "source": [
    "seedEverything()\n",
    "\n",
    "for i in range(NUM_EPOCHS):\n",
    "    bar_loader = tqdm(total = len(train_loader_sasrec) ,)\n",
    "    losses = []\n",
    "    for i in train_loader_sasrec:\n",
    "        _, inputs, targets = i\n",
    "        \n",
    "        optimizer.zero_grad()\n",
    "        \n",
    "        outputs = sasrec_model(inputs)\n",
    "        logits = outputs.view(outputs.shape[0] * outputs.shape[1], -1)\n",
    "        labels = targets.view(-1).long()\n",
    "    \n",
    "        loss = criterion(logits, labels)\n",
    "        loss.backward()\n",
    "        optimizer.step()\n",
    "        bar_loader.update(1)\n",
    "        bar_loader.set_description(f'batch loss - {loss.item()}')\n",
    "        losses.append(loss.item())\n",
    "    \n",
    "    bar.update(1)\n",
    "    bar.set_description(f'epoch loss - {sum(losses)/len(losses)}')"
   ]
  },
  {
   "cell_type": "code",
   "execution_count": 140,
   "id": "1c6f0c92-033d-4ef0-b034-a757d3de7b43",
   "metadata": {
    "tags": []
   },
   "outputs": [
    {
     "data": {
      "application/vnd.jupyter.widget-view+json": {
       "model_id": "a89b7c81f0c54155a48fb8e9f24f3f0f",
       "version_major": 2,
       "version_minor": 0
      },
      "text/plain": [
       "  0%|          | 0/21 [00:00<?, ?it/s]"
      ]
     },
     "metadata": {},
     "output_type": "display_data"
    },
    {
     "data": {
      "text/html": [
       "<div>\n",
       "<style scoped>\n",
       "    .dataframe tbody tr th:only-of-type {\n",
       "        vertical-align: middle;\n",
       "    }\n",
       "\n",
       "    .dataframe tbody tr th {\n",
       "        vertical-align: top;\n",
       "    }\n",
       "\n",
       "    .dataframe thead th {\n",
       "        text-align: right;\n",
       "    }\n",
       "</style>\n",
       "<table border=\"1\" class=\"dataframe\">\n",
       "  <thead>\n",
       "    <tr style=\"text-align: right;\">\n",
       "      <th></th>\n",
       "      <th>node_index</th>\n",
       "      <th>user_index</th>\n",
       "      <th>rank</th>\n",
       "      <th>relevant</th>\n",
       "    </tr>\n",
       "  </thead>\n",
       "  <tbody>\n",
       "    <tr>\n",
       "      <th>0</th>\n",
       "      <td>0</td>\n",
       "      <td>1</td>\n",
       "      <td>0</td>\n",
       "      <td>0.0</td>\n",
       "    </tr>\n",
       "    <tr>\n",
       "      <th>1</th>\n",
       "      <td>106</td>\n",
       "      <td>1</td>\n",
       "      <td>1</td>\n",
       "      <td>0.0</td>\n",
       "    </tr>\n",
       "    <tr>\n",
       "      <th>2</th>\n",
       "      <td>77</td>\n",
       "      <td>1</td>\n",
       "      <td>2</td>\n",
       "      <td>0.0</td>\n",
       "    </tr>\n",
       "    <tr>\n",
       "      <th>3</th>\n",
       "      <td>152</td>\n",
       "      <td>1</td>\n",
       "      <td>3</td>\n",
       "      <td>0.0</td>\n",
       "    </tr>\n",
       "    <tr>\n",
       "      <th>4</th>\n",
       "      <td>31</td>\n",
       "      <td>1</td>\n",
       "      <td>4</td>\n",
       "      <td>0.0</td>\n",
       "    </tr>\n",
       "  </tbody>\n",
       "</table>\n",
       "</div>"
      ],
      "text/plain": [
       "  node_index  user_index rank  relevant\n",
       "0          0           1    0       0.0\n",
       "1        106           1    1       0.0\n",
       "2         77           1    2       0.0\n",
       "3        152           1    3       0.0\n",
       "4         31           1    4       0.0"
      ]
     },
     "execution_count": 140,
     "metadata": {},
     "output_type": "execute_result"
    }
   ],
   "source": [
    "# предикт\n",
    "\n",
    "sasrec_preds = pd.DataFrame()\n",
    "for sasrec_users, sasrec_seqs in tqdm(test_loader_sasrec):\n",
    "    sasrec_users = sasrec_users.numpy()\n",
    "    \n",
    "    outputs = sasrec_model(sasrec_seqs)\n",
    "    recs = outputs[:, -1, :]\n",
    "    \n",
    "    #recs = sasrec_model.recommend(sasrec_seqs)\n",
    "    recs = torch.topk(recs, 100, dim=1).indices.squeeze(0).cpu().numpy()\n",
    "    \n",
    "    part_preds = pd.DataFrame({'node_index': list(recs),\n",
    "                              'user_index': sasrec_users,\n",
    "                              'rank': [[j for j in range(0, K)]for i in range(len(recs))]})\n",
    "\n",
    "    part_preds = part_preds.explode(['node_index', 'rank']).merge(\n",
    "                df_test[df_test['user_index'].isin(sasrec_users)][['user_index', 'node_index']].assign(relevant=1).drop_duplicates(),\n",
    "                on = ['user_index', 'node_index'],\n",
    "                how='left' ,\n",
    "    )\n",
    "    part_preds['relevant'] = part_preds['relevant'].fillna(0)\n",
    "    \n",
    "    sasrec_preds = pd.concat([sasrec_preds, part_preds], ignore_index=True)\n",
    "    \n",
    "sasrec_preds.head()"
   ]
  },
  {
   "cell_type": "code",
   "execution_count": 126,
   "id": "61b404ec-1712-4ad5-b49f-23ea2141a491",
   "metadata": {
    "tags": []
   },
   "outputs": [
    {
     "data": {
      "text/plain": [
       "(0.6821589205397302, 0.02093953023488256)"
      ]
     },
     "execution_count": 126,
     "metadata": {},
     "output_type": "execute_result"
    }
   ],
   "source": [
    "hitrate = calc_hitrate(sasrec_preds, K)\n",
    "prec = calc_prec(sasrec_preds, 30)\n",
    "\n",
    "hitrate, prec"
   ]
  },
  {
   "cell_type": "code",
   "execution_count": null,
   "id": "d4fbda6a-3f36-4ac8-8f22-95532f1346a9",
   "metadata": {},
   "outputs": [],
   "source": []
  },
  {
   "cell_type": "code",
   "execution_count": null,
   "id": "98d4c5b6-306f-4c51-a50d-ad0ea53085cc",
   "metadata": {},
   "outputs": [],
   "source": []
  },
  {
   "cell_type": "code",
   "execution_count": null,
   "id": "4a52c748-1e47-45a7-aa85-450b7551455a",
   "metadata": {},
   "outputs": [],
   "source": []
  }
 ],
 "metadata": {
  "kernelspec": {
   "display_name": "Python 3 (ipykernel)",
   "language": "python",
   "name": "python3"
  },
  "language_info": {
   "codemirror_mode": {
    "name": "ipython",
    "version": 3
   },
   "file_extension": ".py",
   "mimetype": "text/x-python",
   "name": "python",
   "nbconvert_exporter": "python",
   "pygments_lexer": "ipython3",
   "version": "3.11.7"
  }
 },
 "nbformat": 4,
 "nbformat_minor": 5
}
